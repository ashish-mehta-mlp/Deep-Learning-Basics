{
 "cells": [
  {
   "cell_type": "markdown",
   "metadata": {},
   "source": [
    "### Churn Modelling\n",
    "\n",
    "- In this model, we have to predict if a bank customer will take an exit in the future or not.  "
   ]
  },
  {
   "cell_type": "code",
   "execution_count": 2,
   "metadata": {},
   "outputs": [],
   "source": [
    "# Importing libraries\n",
    "\n",
    "import pandas as pd\n",
    "import numpy as np\n",
    "import matplotlib.pyplot as plt"
   ]
  },
  {
   "cell_type": "code",
   "execution_count": 5,
   "metadata": {},
   "outputs": [],
   "source": [
    "# import dataset\n",
    "\n",
    "dataset = pd.read_csv(\"C:/Users/Ashish/Desktop/Deep Learning/CSV files/Churn_Modelling.txt\", sep = \",\")"
   ]
  },
  {
   "cell_type": "code",
   "execution_count": 6,
   "metadata": {},
   "outputs": [
    {
     "data": {
      "text/html": [
       "<div>\n",
       "<style scoped>\n",
       "    .dataframe tbody tr th:only-of-type {\n",
       "        vertical-align: middle;\n",
       "    }\n",
       "\n",
       "    .dataframe tbody tr th {\n",
       "        vertical-align: top;\n",
       "    }\n",
       "\n",
       "    .dataframe thead th {\n",
       "        text-align: right;\n",
       "    }\n",
       "</style>\n",
       "<table border=\"1\" class=\"dataframe\">\n",
       "  <thead>\n",
       "    <tr style=\"text-align: right;\">\n",
       "      <th></th>\n",
       "      <th>RowNumber</th>\n",
       "      <th>CustomerId</th>\n",
       "      <th>Surname</th>\n",
       "      <th>CreditScore</th>\n",
       "      <th>Geography</th>\n",
       "      <th>Gender</th>\n",
       "      <th>Age</th>\n",
       "      <th>Tenure</th>\n",
       "      <th>Balance</th>\n",
       "      <th>NumOfProducts</th>\n",
       "      <th>HasCrCard</th>\n",
       "      <th>IsActiveMember</th>\n",
       "      <th>EstimatedSalary</th>\n",
       "      <th>Exited</th>\n",
       "    </tr>\n",
       "  </thead>\n",
       "  <tbody>\n",
       "    <tr>\n",
       "      <th>0</th>\n",
       "      <td>1</td>\n",
       "      <td>15634602</td>\n",
       "      <td>Hargrave</td>\n",
       "      <td>619</td>\n",
       "      <td>France</td>\n",
       "      <td>Female</td>\n",
       "      <td>42</td>\n",
       "      <td>2</td>\n",
       "      <td>0.00</td>\n",
       "      <td>1</td>\n",
       "      <td>1</td>\n",
       "      <td>1</td>\n",
       "      <td>101348.88</td>\n",
       "      <td>1</td>\n",
       "    </tr>\n",
       "    <tr>\n",
       "      <th>1</th>\n",
       "      <td>2</td>\n",
       "      <td>15647311</td>\n",
       "      <td>Hill</td>\n",
       "      <td>608</td>\n",
       "      <td>Spain</td>\n",
       "      <td>Female</td>\n",
       "      <td>41</td>\n",
       "      <td>1</td>\n",
       "      <td>83807.86</td>\n",
       "      <td>1</td>\n",
       "      <td>0</td>\n",
       "      <td>1</td>\n",
       "      <td>112542.58</td>\n",
       "      <td>0</td>\n",
       "    </tr>\n",
       "    <tr>\n",
       "      <th>2</th>\n",
       "      <td>3</td>\n",
       "      <td>15619304</td>\n",
       "      <td>Onio</td>\n",
       "      <td>502</td>\n",
       "      <td>France</td>\n",
       "      <td>Female</td>\n",
       "      <td>42</td>\n",
       "      <td>8</td>\n",
       "      <td>159660.80</td>\n",
       "      <td>3</td>\n",
       "      <td>1</td>\n",
       "      <td>0</td>\n",
       "      <td>113931.57</td>\n",
       "      <td>1</td>\n",
       "    </tr>\n",
       "    <tr>\n",
       "      <th>3</th>\n",
       "      <td>4</td>\n",
       "      <td>15701354</td>\n",
       "      <td>Boni</td>\n",
       "      <td>699</td>\n",
       "      <td>France</td>\n",
       "      <td>Female</td>\n",
       "      <td>39</td>\n",
       "      <td>1</td>\n",
       "      <td>0.00</td>\n",
       "      <td>2</td>\n",
       "      <td>0</td>\n",
       "      <td>0</td>\n",
       "      <td>93826.63</td>\n",
       "      <td>0</td>\n",
       "    </tr>\n",
       "    <tr>\n",
       "      <th>4</th>\n",
       "      <td>5</td>\n",
       "      <td>15737888</td>\n",
       "      <td>Mitchell</td>\n",
       "      <td>850</td>\n",
       "      <td>Spain</td>\n",
       "      <td>Female</td>\n",
       "      <td>43</td>\n",
       "      <td>2</td>\n",
       "      <td>125510.82</td>\n",
       "      <td>1</td>\n",
       "      <td>1</td>\n",
       "      <td>1</td>\n",
       "      <td>79084.10</td>\n",
       "      <td>0</td>\n",
       "    </tr>\n",
       "  </tbody>\n",
       "</table>\n",
       "</div>"
      ],
      "text/plain": [
       "   RowNumber  CustomerId   Surname  CreditScore Geography  Gender  Age  \\\n",
       "0          1    15634602  Hargrave          619    France  Female   42   \n",
       "1          2    15647311      Hill          608     Spain  Female   41   \n",
       "2          3    15619304      Onio          502    France  Female   42   \n",
       "3          4    15701354      Boni          699    France  Female   39   \n",
       "4          5    15737888  Mitchell          850     Spain  Female   43   \n",
       "\n",
       "   Tenure    Balance  NumOfProducts  HasCrCard  IsActiveMember  \\\n",
       "0       2       0.00              1          1               1   \n",
       "1       1   83807.86              1          0               1   \n",
       "2       8  159660.80              3          1               0   \n",
       "3       1       0.00              2          0               0   \n",
       "4       2  125510.82              1          1               1   \n",
       "\n",
       "   EstimatedSalary  Exited  \n",
       "0        101348.88       1  \n",
       "1        112542.58       0  \n",
       "2        113931.57       1  \n",
       "3         93826.63       0  \n",
       "4         79084.10       0  "
      ]
     },
     "execution_count": 6,
     "metadata": {},
     "output_type": "execute_result"
    }
   ],
   "source": [
    "dataset.head()"
   ]
  },
  {
   "cell_type": "code",
   "execution_count": 7,
   "metadata": {},
   "outputs": [
    {
     "data": {
      "text/plain": [
       "(10000, 14)"
      ]
     },
     "execution_count": 7,
     "metadata": {},
     "output_type": "execute_result"
    }
   ],
   "source": [
    "dataset.shape"
   ]
  },
  {
   "cell_type": "markdown",
   "metadata": {},
   "source": [
    "- There are  10,000 rows and 13 columns in this dataset\n",
    "- The first three columns do not provide any data and can be removed\n",
    "- The last column/feature [Exited] is our dependent feature\n",
    "- Remaining 9 columns/features are our independent features"
   ]
  },
  {
   "cell_type": "code",
   "execution_count": 8,
   "metadata": {},
   "outputs": [],
   "source": [
    "# Creating dependent and independent feature dataset\n",
    "\n",
    "X = dataset.iloc[:, 3:13]\n",
    "y = dataset.iloc[:, 13]"
   ]
  },
  {
   "cell_type": "code",
   "execution_count": 9,
   "metadata": {},
   "outputs": [
    {
     "data": {
      "text/html": [
       "<div>\n",
       "<style scoped>\n",
       "    .dataframe tbody tr th:only-of-type {\n",
       "        vertical-align: middle;\n",
       "    }\n",
       "\n",
       "    .dataframe tbody tr th {\n",
       "        vertical-align: top;\n",
       "    }\n",
       "\n",
       "    .dataframe thead th {\n",
       "        text-align: right;\n",
       "    }\n",
       "</style>\n",
       "<table border=\"1\" class=\"dataframe\">\n",
       "  <thead>\n",
       "    <tr style=\"text-align: right;\">\n",
       "      <th></th>\n",
       "      <th>CreditScore</th>\n",
       "      <th>Geography</th>\n",
       "      <th>Gender</th>\n",
       "      <th>Age</th>\n",
       "      <th>Tenure</th>\n",
       "      <th>Balance</th>\n",
       "      <th>NumOfProducts</th>\n",
       "      <th>HasCrCard</th>\n",
       "      <th>IsActiveMember</th>\n",
       "      <th>EstimatedSalary</th>\n",
       "    </tr>\n",
       "  </thead>\n",
       "  <tbody>\n",
       "    <tr>\n",
       "      <th>0</th>\n",
       "      <td>619</td>\n",
       "      <td>France</td>\n",
       "      <td>Female</td>\n",
       "      <td>42</td>\n",
       "      <td>2</td>\n",
       "      <td>0.00</td>\n",
       "      <td>1</td>\n",
       "      <td>1</td>\n",
       "      <td>1</td>\n",
       "      <td>101348.88</td>\n",
       "    </tr>\n",
       "    <tr>\n",
       "      <th>1</th>\n",
       "      <td>608</td>\n",
       "      <td>Spain</td>\n",
       "      <td>Female</td>\n",
       "      <td>41</td>\n",
       "      <td>1</td>\n",
       "      <td>83807.86</td>\n",
       "      <td>1</td>\n",
       "      <td>0</td>\n",
       "      <td>1</td>\n",
       "      <td>112542.58</td>\n",
       "    </tr>\n",
       "    <tr>\n",
       "      <th>2</th>\n",
       "      <td>502</td>\n",
       "      <td>France</td>\n",
       "      <td>Female</td>\n",
       "      <td>42</td>\n",
       "      <td>8</td>\n",
       "      <td>159660.80</td>\n",
       "      <td>3</td>\n",
       "      <td>1</td>\n",
       "      <td>0</td>\n",
       "      <td>113931.57</td>\n",
       "    </tr>\n",
       "    <tr>\n",
       "      <th>3</th>\n",
       "      <td>699</td>\n",
       "      <td>France</td>\n",
       "      <td>Female</td>\n",
       "      <td>39</td>\n",
       "      <td>1</td>\n",
       "      <td>0.00</td>\n",
       "      <td>2</td>\n",
       "      <td>0</td>\n",
       "      <td>0</td>\n",
       "      <td>93826.63</td>\n",
       "    </tr>\n",
       "    <tr>\n",
       "      <th>4</th>\n",
       "      <td>850</td>\n",
       "      <td>Spain</td>\n",
       "      <td>Female</td>\n",
       "      <td>43</td>\n",
       "      <td>2</td>\n",
       "      <td>125510.82</td>\n",
       "      <td>1</td>\n",
       "      <td>1</td>\n",
       "      <td>1</td>\n",
       "      <td>79084.10</td>\n",
       "    </tr>\n",
       "  </tbody>\n",
       "</table>\n",
       "</div>"
      ],
      "text/plain": [
       "   CreditScore Geography  Gender  Age  Tenure    Balance  NumOfProducts  \\\n",
       "0          619    France  Female   42       2       0.00              1   \n",
       "1          608     Spain  Female   41       1   83807.86              1   \n",
       "2          502    France  Female   42       8  159660.80              3   \n",
       "3          699    France  Female   39       1       0.00              2   \n",
       "4          850     Spain  Female   43       2  125510.82              1   \n",
       "\n",
       "   HasCrCard  IsActiveMember  EstimatedSalary  \n",
       "0          1               1        101348.88  \n",
       "1          0               1        112542.58  \n",
       "2          1               0        113931.57  \n",
       "3          0               0         93826.63  \n",
       "4          1               1         79084.10  "
      ]
     },
     "execution_count": 9,
     "metadata": {},
     "output_type": "execute_result"
    }
   ],
   "source": [
    "X.head()"
   ]
  },
  {
   "cell_type": "code",
   "execution_count": 10,
   "metadata": {},
   "outputs": [
    {
     "data": {
      "text/plain": [
       "0    1\n",
       "1    0\n",
       "2    1\n",
       "3    0\n",
       "4    0\n",
       "Name: Exited, dtype: int64"
      ]
     },
     "execution_count": 10,
     "metadata": {},
     "output_type": "execute_result"
    }
   ],
   "source": [
    "y.head()"
   ]
  },
  {
   "cell_type": "markdown",
   "metadata": {},
   "source": [
    "- Geography and Gender are categorical features. Hence we have to convert them to numerical features "
   ]
  },
  {
   "cell_type": "code",
   "execution_count": 11,
   "metadata": {},
   "outputs": [],
   "source": [
    "# Create dummy variables\n",
    "geography = pd.get_dummies(X[\"Geography\"], drop_first = True)\n",
    "gender = pd.get_dummies(X[\"Gender\"], drop_first = True)"
   ]
  },
  {
   "cell_type": "code",
   "execution_count": 12,
   "metadata": {},
   "outputs": [
    {
     "data": {
      "text/html": [
       "<div>\n",
       "<style scoped>\n",
       "    .dataframe tbody tr th:only-of-type {\n",
       "        vertical-align: middle;\n",
       "    }\n",
       "\n",
       "    .dataframe tbody tr th {\n",
       "        vertical-align: top;\n",
       "    }\n",
       "\n",
       "    .dataframe thead th {\n",
       "        text-align: right;\n",
       "    }\n",
       "</style>\n",
       "<table border=\"1\" class=\"dataframe\">\n",
       "  <thead>\n",
       "    <tr style=\"text-align: right;\">\n",
       "      <th></th>\n",
       "      <th>CreditScore</th>\n",
       "      <th>Geography</th>\n",
       "      <th>Gender</th>\n",
       "      <th>Age</th>\n",
       "      <th>Tenure</th>\n",
       "      <th>Balance</th>\n",
       "      <th>NumOfProducts</th>\n",
       "      <th>HasCrCard</th>\n",
       "      <th>IsActiveMember</th>\n",
       "      <th>EstimatedSalary</th>\n",
       "    </tr>\n",
       "  </thead>\n",
       "  <tbody>\n",
       "    <tr>\n",
       "      <th>0</th>\n",
       "      <td>619</td>\n",
       "      <td>France</td>\n",
       "      <td>Female</td>\n",
       "      <td>42</td>\n",
       "      <td>2</td>\n",
       "      <td>0.00</td>\n",
       "      <td>1</td>\n",
       "      <td>1</td>\n",
       "      <td>1</td>\n",
       "      <td>101348.88</td>\n",
       "    </tr>\n",
       "    <tr>\n",
       "      <th>1</th>\n",
       "      <td>608</td>\n",
       "      <td>Spain</td>\n",
       "      <td>Female</td>\n",
       "      <td>41</td>\n",
       "      <td>1</td>\n",
       "      <td>83807.86</td>\n",
       "      <td>1</td>\n",
       "      <td>0</td>\n",
       "      <td>1</td>\n",
       "      <td>112542.58</td>\n",
       "    </tr>\n",
       "    <tr>\n",
       "      <th>2</th>\n",
       "      <td>502</td>\n",
       "      <td>France</td>\n",
       "      <td>Female</td>\n",
       "      <td>42</td>\n",
       "      <td>8</td>\n",
       "      <td>159660.80</td>\n",
       "      <td>3</td>\n",
       "      <td>1</td>\n",
       "      <td>0</td>\n",
       "      <td>113931.57</td>\n",
       "    </tr>\n",
       "    <tr>\n",
       "      <th>3</th>\n",
       "      <td>699</td>\n",
       "      <td>France</td>\n",
       "      <td>Female</td>\n",
       "      <td>39</td>\n",
       "      <td>1</td>\n",
       "      <td>0.00</td>\n",
       "      <td>2</td>\n",
       "      <td>0</td>\n",
       "      <td>0</td>\n",
       "      <td>93826.63</td>\n",
       "    </tr>\n",
       "    <tr>\n",
       "      <th>4</th>\n",
       "      <td>850</td>\n",
       "      <td>Spain</td>\n",
       "      <td>Female</td>\n",
       "      <td>43</td>\n",
       "      <td>2</td>\n",
       "      <td>125510.82</td>\n",
       "      <td>1</td>\n",
       "      <td>1</td>\n",
       "      <td>1</td>\n",
       "      <td>79084.10</td>\n",
       "    </tr>\n",
       "  </tbody>\n",
       "</table>\n",
       "</div>"
      ],
      "text/plain": [
       "   CreditScore Geography  Gender  Age  Tenure    Balance  NumOfProducts  \\\n",
       "0          619    France  Female   42       2       0.00              1   \n",
       "1          608     Spain  Female   41       1   83807.86              1   \n",
       "2          502    France  Female   42       8  159660.80              3   \n",
       "3          699    France  Female   39       1       0.00              2   \n",
       "4          850     Spain  Female   43       2  125510.82              1   \n",
       "\n",
       "   HasCrCard  IsActiveMember  EstimatedSalary  \n",
       "0          1               1        101348.88  \n",
       "1          0               1        112542.58  \n",
       "2          1               0        113931.57  \n",
       "3          0               0         93826.63  \n",
       "4          1               1         79084.10  "
      ]
     },
     "execution_count": 12,
     "metadata": {},
     "output_type": "execute_result"
    }
   ],
   "source": [
    "X.head()"
   ]
  },
  {
   "cell_type": "code",
   "execution_count": 13,
   "metadata": {},
   "outputs": [
    {
     "data": {
      "text/html": [
       "<div>\n",
       "<style scoped>\n",
       "    .dataframe tbody tr th:only-of-type {\n",
       "        vertical-align: middle;\n",
       "    }\n",
       "\n",
       "    .dataframe tbody tr th {\n",
       "        vertical-align: top;\n",
       "    }\n",
       "\n",
       "    .dataframe thead th {\n",
       "        text-align: right;\n",
       "    }\n",
       "</style>\n",
       "<table border=\"1\" class=\"dataframe\">\n",
       "  <thead>\n",
       "    <tr style=\"text-align: right;\">\n",
       "      <th></th>\n",
       "      <th>Germany</th>\n",
       "      <th>Spain</th>\n",
       "    </tr>\n",
       "  </thead>\n",
       "  <tbody>\n",
       "    <tr>\n",
       "      <th>0</th>\n",
       "      <td>0</td>\n",
       "      <td>0</td>\n",
       "    </tr>\n",
       "    <tr>\n",
       "      <th>1</th>\n",
       "      <td>0</td>\n",
       "      <td>1</td>\n",
       "    </tr>\n",
       "    <tr>\n",
       "      <th>2</th>\n",
       "      <td>0</td>\n",
       "      <td>0</td>\n",
       "    </tr>\n",
       "    <tr>\n",
       "      <th>3</th>\n",
       "      <td>0</td>\n",
       "      <td>0</td>\n",
       "    </tr>\n",
       "    <tr>\n",
       "      <th>4</th>\n",
       "      <td>0</td>\n",
       "      <td>1</td>\n",
       "    </tr>\n",
       "  </tbody>\n",
       "</table>\n",
       "</div>"
      ],
      "text/plain": [
       "   Germany  Spain\n",
       "0        0      0\n",
       "1        0      1\n",
       "2        0      0\n",
       "3        0      0\n",
       "4        0      1"
      ]
     },
     "execution_count": 13,
     "metadata": {},
     "output_type": "execute_result"
    }
   ],
   "source": [
    "geography.head()"
   ]
  },
  {
   "cell_type": "code",
   "execution_count": 14,
   "metadata": {},
   "outputs": [
    {
     "data": {
      "text/html": [
       "<div>\n",
       "<style scoped>\n",
       "    .dataframe tbody tr th:only-of-type {\n",
       "        vertical-align: middle;\n",
       "    }\n",
       "\n",
       "    .dataframe tbody tr th {\n",
       "        vertical-align: top;\n",
       "    }\n",
       "\n",
       "    .dataframe thead th {\n",
       "        text-align: right;\n",
       "    }\n",
       "</style>\n",
       "<table border=\"1\" class=\"dataframe\">\n",
       "  <thead>\n",
       "    <tr style=\"text-align: right;\">\n",
       "      <th></th>\n",
       "      <th>Male</th>\n",
       "    </tr>\n",
       "  </thead>\n",
       "  <tbody>\n",
       "    <tr>\n",
       "      <th>0</th>\n",
       "      <td>0</td>\n",
       "    </tr>\n",
       "    <tr>\n",
       "      <th>1</th>\n",
       "      <td>0</td>\n",
       "    </tr>\n",
       "    <tr>\n",
       "      <th>2</th>\n",
       "      <td>0</td>\n",
       "    </tr>\n",
       "    <tr>\n",
       "      <th>3</th>\n",
       "      <td>0</td>\n",
       "    </tr>\n",
       "    <tr>\n",
       "      <th>4</th>\n",
       "      <td>0</td>\n",
       "    </tr>\n",
       "  </tbody>\n",
       "</table>\n",
       "</div>"
      ],
      "text/plain": [
       "   Male\n",
       "0     0\n",
       "1     0\n",
       "2     0\n",
       "3     0\n",
       "4     0"
      ]
     },
     "execution_count": 14,
     "metadata": {},
     "output_type": "execute_result"
    }
   ],
   "source": [
    "gender.head()"
   ]
  },
  {
   "cell_type": "code",
   "execution_count": 16,
   "metadata": {},
   "outputs": [],
   "source": [
    "# Concatenate dummy variables to the dataframe\n",
    "\n",
    "X = pd.concat([X, geography, gender], axis = 1)"
   ]
  },
  {
   "cell_type": "code",
   "execution_count": 17,
   "metadata": {},
   "outputs": [
    {
     "data": {
      "text/html": [
       "<div>\n",
       "<style scoped>\n",
       "    .dataframe tbody tr th:only-of-type {\n",
       "        vertical-align: middle;\n",
       "    }\n",
       "\n",
       "    .dataframe tbody tr th {\n",
       "        vertical-align: top;\n",
       "    }\n",
       "\n",
       "    .dataframe thead th {\n",
       "        text-align: right;\n",
       "    }\n",
       "</style>\n",
       "<table border=\"1\" class=\"dataframe\">\n",
       "  <thead>\n",
       "    <tr style=\"text-align: right;\">\n",
       "      <th></th>\n",
       "      <th>CreditScore</th>\n",
       "      <th>Geography</th>\n",
       "      <th>Gender</th>\n",
       "      <th>Age</th>\n",
       "      <th>Tenure</th>\n",
       "      <th>Balance</th>\n",
       "      <th>NumOfProducts</th>\n",
       "      <th>HasCrCard</th>\n",
       "      <th>IsActiveMember</th>\n",
       "      <th>EstimatedSalary</th>\n",
       "      <th>Germany</th>\n",
       "      <th>Spain</th>\n",
       "      <th>Male</th>\n",
       "    </tr>\n",
       "  </thead>\n",
       "  <tbody>\n",
       "    <tr>\n",
       "      <th>0</th>\n",
       "      <td>619</td>\n",
       "      <td>France</td>\n",
       "      <td>Female</td>\n",
       "      <td>42</td>\n",
       "      <td>2</td>\n",
       "      <td>0.00</td>\n",
       "      <td>1</td>\n",
       "      <td>1</td>\n",
       "      <td>1</td>\n",
       "      <td>101348.88</td>\n",
       "      <td>0</td>\n",
       "      <td>0</td>\n",
       "      <td>0</td>\n",
       "    </tr>\n",
       "    <tr>\n",
       "      <th>1</th>\n",
       "      <td>608</td>\n",
       "      <td>Spain</td>\n",
       "      <td>Female</td>\n",
       "      <td>41</td>\n",
       "      <td>1</td>\n",
       "      <td>83807.86</td>\n",
       "      <td>1</td>\n",
       "      <td>0</td>\n",
       "      <td>1</td>\n",
       "      <td>112542.58</td>\n",
       "      <td>0</td>\n",
       "      <td>1</td>\n",
       "      <td>0</td>\n",
       "    </tr>\n",
       "    <tr>\n",
       "      <th>2</th>\n",
       "      <td>502</td>\n",
       "      <td>France</td>\n",
       "      <td>Female</td>\n",
       "      <td>42</td>\n",
       "      <td>8</td>\n",
       "      <td>159660.80</td>\n",
       "      <td>3</td>\n",
       "      <td>1</td>\n",
       "      <td>0</td>\n",
       "      <td>113931.57</td>\n",
       "      <td>0</td>\n",
       "      <td>0</td>\n",
       "      <td>0</td>\n",
       "    </tr>\n",
       "    <tr>\n",
       "      <th>3</th>\n",
       "      <td>699</td>\n",
       "      <td>France</td>\n",
       "      <td>Female</td>\n",
       "      <td>39</td>\n",
       "      <td>1</td>\n",
       "      <td>0.00</td>\n",
       "      <td>2</td>\n",
       "      <td>0</td>\n",
       "      <td>0</td>\n",
       "      <td>93826.63</td>\n",
       "      <td>0</td>\n",
       "      <td>0</td>\n",
       "      <td>0</td>\n",
       "    </tr>\n",
       "    <tr>\n",
       "      <th>4</th>\n",
       "      <td>850</td>\n",
       "      <td>Spain</td>\n",
       "      <td>Female</td>\n",
       "      <td>43</td>\n",
       "      <td>2</td>\n",
       "      <td>125510.82</td>\n",
       "      <td>1</td>\n",
       "      <td>1</td>\n",
       "      <td>1</td>\n",
       "      <td>79084.10</td>\n",
       "      <td>0</td>\n",
       "      <td>1</td>\n",
       "      <td>0</td>\n",
       "    </tr>\n",
       "  </tbody>\n",
       "</table>\n",
       "</div>"
      ],
      "text/plain": [
       "   CreditScore Geography  Gender  Age  Tenure    Balance  NumOfProducts  \\\n",
       "0          619    France  Female   42       2       0.00              1   \n",
       "1          608     Spain  Female   41       1   83807.86              1   \n",
       "2          502    France  Female   42       8  159660.80              3   \n",
       "3          699    France  Female   39       1       0.00              2   \n",
       "4          850     Spain  Female   43       2  125510.82              1   \n",
       "\n",
       "   HasCrCard  IsActiveMember  EstimatedSalary  Germany  Spain  Male  \n",
       "0          1               1        101348.88        0      0     0  \n",
       "1          0               1        112542.58        0      1     0  \n",
       "2          1               0        113931.57        0      0     0  \n",
       "3          0               0         93826.63        0      0     0  \n",
       "4          1               1         79084.10        0      1     0  "
      ]
     },
     "execution_count": 17,
     "metadata": {},
     "output_type": "execute_result"
    }
   ],
   "source": [
    "X.head()"
   ]
  },
  {
   "cell_type": "markdown",
   "metadata": {},
   "source": [
    "- Now, We do not need Geography and Gender categorical columns. Hence we drop them"
   ]
  },
  {
   "cell_type": "code",
   "execution_count": 19,
   "metadata": {},
   "outputs": [],
   "source": [
    "## Drop Unwanted categorical columns\n",
    "\n",
    "X = X.drop([\"Geography\", \"Gender\"], axis = 1)"
   ]
  },
  {
   "cell_type": "code",
   "execution_count": 20,
   "metadata": {},
   "outputs": [],
   "source": [
    "# Splitting the data into training and testing data\n",
    "\n",
    "from sklearn.model_selection import train_test_split\n",
    "X_train, X_test, y_train, y_test = train_test_split(X, y, test_size = 0.2, random_state = 0)"
   ]
  },
  {
   "cell_type": "code",
   "execution_count": null,
   "metadata": {},
   "outputs": [],
   "source": []
  },
  {
   "cell_type": "markdown",
   "metadata": {},
   "source": [
    "#### Need of Feature Scaling for Deep learning\n",
    "\n",
    "1. Yes, we require feature scaling in Deep learning. \n",
    "2. The reason we need to scale the input is, in the hidden layer, the features get multiplied by the weights.\n",
    "3. If the features are of different magnitudes, the time taken for multiplication will be very high.\n",
    "4. Also, during back propagation, the time taken to find the derivative also increases. Hence the weights take more time to converge to global minima\n",
    "5. Hence we should scale all the features to the same scale range."
   ]
  },
  {
   "cell_type": "code",
   "execution_count": 22,
   "metadata": {},
   "outputs": [],
   "source": [
    "# Feature Scaling\n",
    "\n",
    "from sklearn.preprocessing import StandardScaler\n",
    "sc = StandardScaler()\n",
    "X_train = sc.fit_transform(X_train)\n",
    "X_test = sc.transform(X_test)"
   ]
  },
  {
   "cell_type": "code",
   "execution_count": 24,
   "metadata": {},
   "outputs": [
    {
     "data": {
      "text/plain": [
       "array([[ 0.16958176, -0.46460796,  0.00666099, ..., -0.5698444 ,\n",
       "         1.74309049, -1.09168714],\n",
       "       [-2.30455945,  0.30102557, -1.37744033, ...,  1.75486502,\n",
       "        -0.57369368,  0.91601335],\n",
       "       [-1.19119591, -0.94312892, -1.031415  , ..., -0.5698444 ,\n",
       "        -0.57369368, -1.09168714],\n",
       "       ...,\n",
       "       [ 0.9015152 , -0.36890377,  0.00666099, ..., -0.5698444 ,\n",
       "        -0.57369368,  0.91601335],\n",
       "       [-0.62420521, -0.08179119,  1.39076231, ..., -0.5698444 ,\n",
       "         1.74309049, -1.09168714],\n",
       "       [-0.28401079,  0.87525072, -1.37744033, ...,  1.75486502,\n",
       "        -0.57369368, -1.09168714]])"
      ]
     },
     "execution_count": 24,
     "metadata": {},
     "output_type": "execute_result"
    }
   ],
   "source": [
    "X_train"
   ]
  },
  {
   "cell_type": "code",
   "execution_count": null,
   "metadata": {},
   "outputs": [],
   "source": []
  },
  {
   "cell_type": "markdown",
   "metadata": {},
   "source": [
    "### Lets Start Making ANN!"
   ]
  },
  {
   "cell_type": "markdown",
   "metadata": {},
   "source": [
    "- Every neural network that you create, whether it is ANN, CNN or RNN, we have to import Sequential\n",
    "- Sequential library is responsible for creating these neural networks\n",
    "- To create hidden layer we have to import Dense library\n",
    "- Import activation functions\n",
    "- Import Dropout layer"
   ]
  },
  {
   "cell_type": "code",
   "execution_count": 25,
   "metadata": {},
   "outputs": [],
   "source": [
    "# Importing Keras Libraries and Packages\n",
    "\n",
    "import keras\n",
    "from keras.models import Sequential\n",
    "from keras.layers import Dense\n",
    "from keras.layers import Dropout\n",
    "from keras.layers import LeakyReLU, PReLU, ELU"
   ]
  },
  {
   "cell_type": "code",
   "execution_count": 26,
   "metadata": {},
   "outputs": [],
   "source": [
    "# Initializing The ANN\n",
    "\n",
    "classifier = Sequential() # This is an empty neural network"
   ]
  },
  {
   "cell_type": "code",
   "execution_count": 28,
   "metadata": {},
   "outputs": [],
   "source": [
    "# Adding the input layer and first hidden layer\n",
    "classifier.add(Dense(units = 6, kernel_initializer = \"he_uniform\", activation = \"relu\", input_dim = 11))"
   ]
  },
  {
   "cell_type": "markdown",
   "metadata": {},
   "source": [
    "- units = number of neurons in the first hidden layer\n",
    "- input_dim = number of input features\n",
    "- kernel_initialization = weight initialization"
   ]
  },
  {
   "cell_type": "code",
   "execution_count": 29,
   "metadata": {},
   "outputs": [],
   "source": [
    "# Adding the second hidden layer\n",
    "\n",
    "classifier.add(Dense(units = 6, kernel_initializer = \"he_uniform\", activation = \"relu\"))"
   ]
  },
  {
   "cell_type": "code",
   "execution_count": 30,
   "metadata": {},
   "outputs": [],
   "source": [
    "# Adding the output layer\n",
    "\n",
    "classifier.add(Dense(units = 1, kernel_initializer = \"glorot_uniform\", activation = \"sigmoid\"))"
   ]
  },
  {
   "cell_type": "markdown",
   "metadata": {},
   "source": [
    "- Since we have a binary output ie 0 or 1, thereform no. of neurons used in output layer is 1"
   ]
  },
  {
   "cell_type": "code",
   "execution_count": 32,
   "metadata": {},
   "outputs": [],
   "source": [
    "# Compiling the ANN\n",
    "classifier.compile(optimizer=\"Adamax\", loss = \"binary_crossentropy\", metrics = [\"accuracy\"])"
   ]
  },
  {
   "cell_type": "code",
   "execution_count": 34,
   "metadata": {},
   "outputs": [
    {
     "name": "stdout",
     "output_type": "stream",
     "text": [
      "Train on 5359 samples, validate on 2641 samples\n",
      "Epoch 1/100\n",
      " 400/5359 [=>............................] - ETA: 1s - loss: 0.4101 - accuracy: 0.8200"
     ]
    },
    {
     "name": "stderr",
     "output_type": "stream",
     "text": [
      "F:\\Anaconda3\\lib\\site-packages\\ipykernel_launcher.py:3: UserWarning: The `nb_epoch` argument in `fit` has been renamed `epochs`.\n",
      "  This is separate from the ipykernel package so we can avoid doing imports until\n"
     ]
    },
    {
     "name": "stdout",
     "output_type": "stream",
     "text": [
      "5359/5359 [==============================] - 3s 533us/step - loss: 0.3914 - accuracy: 0.8337 - val_loss: 0.4099 - val_accuracy: 0.8220\n",
      "Epoch 2/100\n",
      "5359/5359 [==============================] - 2s 435us/step - loss: 0.3893 - accuracy: 0.8339 - val_loss: 0.4080 - val_accuracy: 0.8232\n",
      "Epoch 3/100\n",
      "5359/5359 [==============================] - 3s 505us/step - loss: 0.3877 - accuracy: 0.8337 - val_loss: 0.4068 - val_accuracy: 0.8228\n",
      "Epoch 4/100\n",
      "5359/5359 [==============================] - 3s 477us/step - loss: 0.3860 - accuracy: 0.8356 - val_loss: 0.4059 - val_accuracy: 0.8228\n",
      "Epoch 5/100\n",
      "5359/5359 [==============================] - 3s 493us/step - loss: 0.3848 - accuracy: 0.8388 - val_loss: 0.4046 - val_accuracy: 0.8236\n",
      "Epoch 6/100\n",
      "5359/5359 [==============================] - 3s 500us/step - loss: 0.3832 - accuracy: 0.8384 - val_loss: 0.4040 - val_accuracy: 0.8239\n",
      "Epoch 7/100\n",
      "5359/5359 [==============================] - 3s 537us/step - loss: 0.3821 - accuracy: 0.8405 - val_loss: 0.4023 - val_accuracy: 0.8270\n",
      "Epoch 8/100\n",
      "5359/5359 [==============================] - 2s 397us/step - loss: 0.3809 - accuracy: 0.8371 - val_loss: 0.4018 - val_accuracy: 0.8266\n",
      "Epoch 9/100\n",
      "5359/5359 [==============================] - 3s 485us/step - loss: 0.3797 - accuracy: 0.8356 - val_loss: 0.3996 - val_accuracy: 0.8304\n",
      "Epoch 10/100\n",
      "5359/5359 [==============================] - 3s 477us/step - loss: 0.3790 - accuracy: 0.8388 - val_loss: 0.4003 - val_accuracy: 0.8289\n",
      "Epoch 11/100\n",
      "5359/5359 [==============================] - 3s 496us/step - loss: 0.3780 - accuracy: 0.8403 - val_loss: 0.3989 - val_accuracy: 0.8273\n",
      "Epoch 12/100\n",
      "5359/5359 [==============================] - 3s 485us/step - loss: 0.3770 - accuracy: 0.8410 - val_loss: 0.3976 - val_accuracy: 0.8273\n",
      "Epoch 13/100\n",
      "5359/5359 [==============================] - 3s 558us/step - loss: 0.3761 - accuracy: 0.8388 - val_loss: 0.3977 - val_accuracy: 0.8307\n",
      "Epoch 14/100\n",
      "5359/5359 [==============================] - 2s 439us/step - loss: 0.3756 - accuracy: 0.8410 - val_loss: 0.3962 - val_accuracy: 0.8266\n",
      "Epoch 15/100\n",
      "5359/5359 [==============================] - 2s 347us/step - loss: 0.3747 - accuracy: 0.8380 - val_loss: 0.3943 - val_accuracy: 0.8300\n",
      "Epoch 16/100\n",
      "5359/5359 [==============================] - 3s 486us/step - loss: 0.3737 - accuracy: 0.8410 - val_loss: 0.3939 - val_accuracy: 0.8281\n",
      "Epoch 17/100\n",
      "5359/5359 [==============================] - 3s 495us/step - loss: 0.3733 - accuracy: 0.8416 - val_loss: 0.3935 - val_accuracy: 0.8292\n",
      "Epoch 18/100\n",
      "5359/5359 [==============================] - 3s 495us/step - loss: 0.3725 - accuracy: 0.8408 - val_loss: 0.3924 - val_accuracy: 0.8292\n",
      "Epoch 19/100\n",
      "5359/5359 [==============================] - 3s 530us/step - loss: 0.3711 - accuracy: 0.8421 - val_loss: 0.3930 - val_accuracy: 0.8307\n",
      "Epoch 20/100\n",
      "5359/5359 [==============================] - 3s 470us/step - loss: 0.3711 - accuracy: 0.8418 - val_loss: 0.3913 - val_accuracy: 0.8296\n",
      "Epoch 21/100\n",
      "5359/5359 [==============================] - 2s 338us/step - loss: 0.3702 - accuracy: 0.8427 - val_loss: 0.3917 - val_accuracy: 0.8307\n",
      "Epoch 22/100\n",
      "5359/5359 [==============================] - 2s 334us/step - loss: 0.3697 - accuracy: 0.8423 - val_loss: 0.3914 - val_accuracy: 0.8319\n",
      "Epoch 23/100\n",
      "5359/5359 [==============================] - 3s 512us/step - loss: 0.3689 - accuracy: 0.8419 - val_loss: 0.3914 - val_accuracy: 0.8349\n",
      "Epoch 24/100\n",
      "5359/5359 [==============================] - 3s 544us/step - loss: 0.3689 - accuracy: 0.8419 - val_loss: 0.3906 - val_accuracy: 0.8345\n",
      "Epoch 25/100\n",
      "5359/5359 [==============================] - 3s 494us/step - loss: 0.3681 - accuracy: 0.8408 - val_loss: 0.3895 - val_accuracy: 0.8360\n",
      "Epoch 26/100\n",
      "5359/5359 [==============================] - 3s 533us/step - loss: 0.3672 - accuracy: 0.8427 - val_loss: 0.3898 - val_accuracy: 0.8353\n",
      "Epoch 27/100\n",
      "5359/5359 [==============================] - 2s 398us/step - loss: 0.3662 - accuracy: 0.8453 - val_loss: 0.3888 - val_accuracy: 0.8368\n",
      "Epoch 28/100\n",
      "5359/5359 [==============================] - 3s 493us/step - loss: 0.3659 - accuracy: 0.8429 - val_loss: 0.3880 - val_accuracy: 0.8383\n",
      "Epoch 29/100\n",
      "5359/5359 [==============================] - 3s 502us/step - loss: 0.3651 - accuracy: 0.8434 - val_loss: 0.3881 - val_accuracy: 0.8357\n",
      "Epoch 30/100\n",
      "5359/5359 [==============================] - 3s 515us/step - loss: 0.3639 - accuracy: 0.8447 - val_loss: 0.3889 - val_accuracy: 0.8330\n",
      "Epoch 31/100\n",
      "5359/5359 [==============================] - 2s 466us/step - loss: 0.3628 - accuracy: 0.8474 - val_loss: 0.3879 - val_accuracy: 0.8326\n",
      "Epoch 32/100\n",
      "5359/5359 [==============================] - 2s 373us/step - loss: 0.3621 - accuracy: 0.8455 - val_loss: 0.3854 - val_accuracy: 0.8372\n",
      "Epoch 33/100\n",
      "5359/5359 [==============================] - 2s 318us/step - loss: 0.3611 - accuracy: 0.8481 - val_loss: 0.3838 - val_accuracy: 0.8368\n",
      "Epoch 34/100\n",
      "5359/5359 [==============================] - 2s 294us/step - loss: 0.3603 - accuracy: 0.8462 - val_loss: 0.3842 - val_accuracy: 0.8376\n",
      "Epoch 35/100\n",
      "5359/5359 [==============================] - 2s 466us/step - loss: 0.3598 - accuracy: 0.8455 - val_loss: 0.3819 - val_accuracy: 0.8402\n",
      "Epoch 36/100\n",
      "5359/5359 [==============================] - 3s 541us/step - loss: 0.3584 - accuracy: 0.8494 - val_loss: 0.3816 - val_accuracy: 0.8402\n",
      "Epoch 37/100\n",
      "5359/5359 [==============================] - 3s 559us/step - loss: 0.3578 - accuracy: 0.8494 - val_loss: 0.3811 - val_accuracy: 0.8402\n",
      "Epoch 38/100\n",
      "5359/5359 [==============================] - 3s 513us/step - loss: 0.3569 - accuracy: 0.8490 - val_loss: 0.3809 - val_accuracy: 0.8406\n",
      "Epoch 39/100\n",
      "5359/5359 [==============================] - 3s 534us/step - loss: 0.3566 - accuracy: 0.8481 - val_loss: 0.3792 - val_accuracy: 0.8417\n",
      "Epoch 40/100\n",
      "5359/5359 [==============================] - 2s 385us/step - loss: 0.3556 - accuracy: 0.8492 - val_loss: 0.3795 - val_accuracy: 0.8417\n",
      "Epoch 41/100\n",
      "5359/5359 [==============================] - 3s 499us/step - loss: 0.3549 - accuracy: 0.8498 - val_loss: 0.3772 - val_accuracy: 0.8413\n",
      "Epoch 42/100\n",
      "5359/5359 [==============================] - 3s 492us/step - loss: 0.3543 - accuracy: 0.8498 - val_loss: 0.3762 - val_accuracy: 0.8413\n",
      "Epoch 43/100\n",
      "5359/5359 [==============================] - 3s 489us/step - loss: 0.3538 - accuracy: 0.8500 - val_loss: 0.3745 - val_accuracy: 0.8410\n",
      "Epoch 44/100\n",
      "5359/5359 [==============================] - 3s 491us/step - loss: 0.3526 - accuracy: 0.8503 - val_loss: 0.3745 - val_accuracy: 0.8440\n",
      "Epoch 45/100\n",
      "5359/5359 [==============================] - 3s 535us/step - loss: 0.3516 - accuracy: 0.8518 - val_loss: 0.3735 - val_accuracy: 0.8444\n",
      "Epoch 46/100\n",
      "5359/5359 [==============================] - 2s 442us/step - loss: 0.3505 - accuracy: 0.8522 - val_loss: 0.3732 - val_accuracy: 0.8436\n",
      "Epoch 47/100\n",
      "5359/5359 [==============================] - 2s 319us/step - loss: 0.3490 - accuracy: 0.8524 - val_loss: 0.3713 - val_accuracy: 0.8470\n",
      "Epoch 48/100\n",
      "5359/5359 [==============================] - 3s 518us/step - loss: 0.3475 - accuracy: 0.8546 - val_loss: 0.3697 - val_accuracy: 0.8474\n",
      "Epoch 49/100\n",
      "5359/5359 [==============================] - 3s 504us/step - loss: 0.3464 - accuracy: 0.8561 - val_loss: 0.3691 - val_accuracy: 0.8478\n",
      "Epoch 50/100\n",
      "5359/5359 [==============================] - 3s 498us/step - loss: 0.3452 - accuracy: 0.8558 - val_loss: 0.3682 - val_accuracy: 0.8474\n",
      "Epoch 51/100\n",
      "5359/5359 [==============================] - 3s 493us/step - loss: 0.3440 - accuracy: 0.8587 - val_loss: 0.3679 - val_accuracy: 0.8497\n",
      "Epoch 52/100\n",
      "5359/5359 [==============================] - 3s 510us/step - loss: 0.3427 - accuracy: 0.8589 - val_loss: 0.3676 - val_accuracy: 0.8501\n",
      "Epoch 53/100\n",
      "5359/5359 [==============================] - 2s 366us/step - loss: 0.3420 - accuracy: 0.8580 - val_loss: 0.3660 - val_accuracy: 0.8504\n",
      "Epoch 54/100\n",
      "5359/5359 [==============================] - 3s 502us/step - loss: 0.3410 - accuracy: 0.8599 - val_loss: 0.3654 - val_accuracy: 0.8493\n",
      "Epoch 55/100\n",
      "5359/5359 [==============================] - 3s 500us/step - loss: 0.3404 - accuracy: 0.8591 - val_loss: 0.3659 - val_accuracy: 0.8493\n",
      "Epoch 56/100\n"
     ]
    },
    {
     "name": "stdout",
     "output_type": "stream",
     "text": [
      "5359/5359 [==============================] - 2s 460us/step - loss: 0.3396 - accuracy: 0.8587 - val_loss: 0.3645 - val_accuracy: 0.8504\n",
      "Epoch 57/100\n",
      "5359/5359 [==============================] - 3s 468us/step - loss: 0.3393 - accuracy: 0.8614 - val_loss: 0.3641 - val_accuracy: 0.8508\n",
      "Epoch 58/100\n",
      "5359/5359 [==============================] - 3s 505us/step - loss: 0.3386 - accuracy: 0.8602 - val_loss: 0.3643 - val_accuracy: 0.8501\n",
      "Epoch 59/100\n",
      "5359/5359 [==============================] - 2s 435us/step - loss: 0.3381 - accuracy: 0.8606 - val_loss: 0.3633 - val_accuracy: 0.8493\n",
      "Epoch 60/100\n",
      "5359/5359 [==============================] - 3s 496us/step - loss: 0.3379 - accuracy: 0.8614 - val_loss: 0.3630 - val_accuracy: 0.8493\n",
      "Epoch 61/100\n",
      "5359/5359 [==============================] - 3s 472us/step - loss: 0.3375 - accuracy: 0.8615 - val_loss: 0.3628 - val_accuracy: 0.8504\n",
      "Epoch 62/100\n",
      "5359/5359 [==============================] - 3s 483us/step - loss: 0.3374 - accuracy: 0.8614 - val_loss: 0.3621 - val_accuracy: 0.8527\n",
      "Epoch 63/100\n",
      "5359/5359 [==============================] - 3s 484us/step - loss: 0.3360 - accuracy: 0.8640 - val_loss: 0.3608 - val_accuracy: 0.8527\n",
      "Epoch 64/100\n",
      "5359/5359 [==============================] - 3s 525us/step - loss: 0.3359 - accuracy: 0.8625 - val_loss: 0.3605 - val_accuracy: 0.8535\n",
      "Epoch 65/100\n",
      "5359/5359 [==============================] - 2s 414us/step - loss: 0.3358 - accuracy: 0.8621 - val_loss: 0.3623 - val_accuracy: 0.8516\n",
      "Epoch 66/100\n",
      "5359/5359 [==============================] - 3s 508us/step - loss: 0.3350 - accuracy: 0.8606 - val_loss: 0.3591 - val_accuracy: 0.8508\n",
      "Epoch 67/100\n",
      "5359/5359 [==============================] - 3s 488us/step - loss: 0.3351 - accuracy: 0.8625 - val_loss: 0.3593 - val_accuracy: 0.8550\n",
      "Epoch 68/100\n",
      "5359/5359 [==============================] - 3s 486us/step - loss: 0.3343 - accuracy: 0.8651 - val_loss: 0.3581 - val_accuracy: 0.8538\n",
      "Epoch 69/100\n",
      "5359/5359 [==============================] - 3s 471us/step - loss: 0.3337 - accuracy: 0.8617 - val_loss: 0.3616 - val_accuracy: 0.8561\n",
      "Epoch 70/100\n",
      "5359/5359 [==============================] - 3s 517us/step - loss: 0.3339 - accuracy: 0.8623 - val_loss: 0.3593 - val_accuracy: 0.8557\n",
      "Epoch 71/100\n",
      "5359/5359 [==============================] - 2s 452us/step - loss: 0.3333 - accuracy: 0.8619 - val_loss: 0.3610 - val_accuracy: 0.8565\n",
      "Epoch 72/100\n",
      "5359/5359 [==============================] - 2s 338us/step - loss: 0.3326 - accuracy: 0.8612 - val_loss: 0.3580 - val_accuracy: 0.8538\n",
      "Epoch 73/100\n",
      "5359/5359 [==============================] - 3s 520us/step - loss: 0.3329 - accuracy: 0.8621 - val_loss: 0.3570 - val_accuracy: 0.8523\n",
      "Epoch 74/100\n",
      "5359/5359 [==============================] - 3s 494us/step - loss: 0.3328 - accuracy: 0.8621 - val_loss: 0.3578 - val_accuracy: 0.8569\n",
      "Epoch 75/100\n",
      "5359/5359 [==============================] - 3s 537us/step - loss: 0.3323 - accuracy: 0.8632 - val_loss: 0.3566 - val_accuracy: 0.8569\n",
      "Epoch 76/100\n",
      "5359/5359 [==============================] - 3s 532us/step - loss: 0.3323 - accuracy: 0.8623 - val_loss: 0.3557 - val_accuracy: 0.8550\n",
      "Epoch 77/100\n",
      "5359/5359 [==============================] - 3s 489us/step - loss: 0.3320 - accuracy: 0.8640 - val_loss: 0.3560 - val_accuracy: 0.8561\n",
      "Epoch 78/100\n",
      "5359/5359 [==============================] - 3s 503us/step - loss: 0.3319 - accuracy: 0.8656 - val_loss: 0.3551 - val_accuracy: 0.8550\n",
      "Epoch 79/100\n",
      "5359/5359 [==============================] - 3s 498us/step - loss: 0.3311 - accuracy: 0.8638 - val_loss: 0.3556 - val_accuracy: 0.8501\n",
      "Epoch 80/100\n",
      "5359/5359 [==============================] - 3s 505us/step - loss: 0.3307 - accuracy: 0.8647 - val_loss: 0.3579 - val_accuracy: 0.8501\n",
      "Epoch 81/100\n",
      "5359/5359 [==============================] - 3s 505us/step - loss: 0.3307 - accuracy: 0.8619 - val_loss: 0.3560 - val_accuracy: 0.8531\n",
      "Epoch 82/100\n",
      "5359/5359 [==============================] - 3s 539us/step - loss: 0.3308 - accuracy: 0.8640 - val_loss: 0.3553 - val_accuracy: 0.8565\n",
      "Epoch 83/100\n",
      "5359/5359 [==============================] - 2s 404us/step - loss: 0.3304 - accuracy: 0.8653 - val_loss: 0.3556 - val_accuracy: 0.8535\n",
      "Epoch 84/100\n",
      "5359/5359 [==============================] - 3s 502us/step - loss: 0.3300 - accuracy: 0.8640 - val_loss: 0.3573 - val_accuracy: 0.8565\n",
      "Epoch 85/100\n",
      "5359/5359 [==============================] - 3s 508us/step - loss: 0.3300 - accuracy: 0.8632 - val_loss: 0.3549 - val_accuracy: 0.8550\n",
      "Epoch 86/100\n",
      "5359/5359 [==============================] - 3s 494us/step - loss: 0.3302 - accuracy: 0.8647 - val_loss: 0.3549 - val_accuracy: 0.8569\n",
      "Epoch 87/100\n",
      "5359/5359 [==============================] - 3s 506us/step - loss: 0.3295 - accuracy: 0.8642 - val_loss: 0.3553 - val_accuracy: 0.8561\n",
      "Epoch 88/100\n",
      "5359/5359 [==============================] - 3s 532us/step - loss: 0.3291 - accuracy: 0.8638 - val_loss: 0.3540 - val_accuracy: 0.8554\n",
      "Epoch 89/100\n",
      "5359/5359 [==============================] - 3s 484us/step - loss: 0.3295 - accuracy: 0.8649 - val_loss: 0.3549 - val_accuracy: 0.8565\n",
      "Epoch 90/100\n",
      "5359/5359 [==============================] - 3s 506us/step - loss: 0.3286 - accuracy: 0.8642 - val_loss: 0.3551 - val_accuracy: 0.8531\n",
      "Epoch 91/100\n",
      "5359/5359 [==============================] - 3s 500us/step - loss: 0.3295 - accuracy: 0.8640 - val_loss: 0.3570 - val_accuracy: 0.8557\n",
      "Epoch 92/100\n",
      "5359/5359 [==============================] - 3s 497us/step - loss: 0.3294 - accuracy: 0.8636 - val_loss: 0.3537 - val_accuracy: 0.8554\n",
      "Epoch 93/100\n",
      "5359/5359 [==============================] - 3s 494us/step - loss: 0.3292 - accuracy: 0.8628 - val_loss: 0.3535 - val_accuracy: 0.8557\n",
      "Epoch 94/100\n",
      "5359/5359 [==============================] - 3s 545us/step - loss: 0.3286 - accuracy: 0.8647 - val_loss: 0.3535 - val_accuracy: 0.8599\n",
      "Epoch 95/100\n",
      "5359/5359 [==============================] - 3s 472us/step - loss: 0.3283 - accuracy: 0.8651 - val_loss: 0.3535 - val_accuracy: 0.8535\n",
      "Epoch 96/100\n",
      "5359/5359 [==============================] - 3s 523us/step - loss: 0.3291 - accuracy: 0.8649 - val_loss: 0.3537 - val_accuracy: 0.8565\n",
      "Epoch 97/100\n",
      "5359/5359 [==============================] - 3s 504us/step - loss: 0.3283 - accuracy: 0.8658 - val_loss: 0.3548 - val_accuracy: 0.8569\n",
      "Epoch 98/100\n",
      "5359/5359 [==============================] - 3s 524us/step - loss: 0.3286 - accuracy: 0.8662 - val_loss: 0.3534 - val_accuracy: 0.8576\n",
      "Epoch 99/100\n",
      "5359/5359 [==============================] - 3s 511us/step - loss: 0.3280 - accuracy: 0.8642 - val_loss: 0.3531 - val_accuracy: 0.8550\n",
      "Epoch 100/100\n",
      "5359/5359 [==============================] - 3s 547us/step - loss: 0.3276 - accuracy: 0.8684 - val_loss: 0.3537 - val_accuracy: 0.8546\n"
     ]
    }
   ],
   "source": [
    "# Fitting the ANN to Training Set\n",
    "\n",
    "model_history = classifier.fit(X_train, y_train, validation_split= 0.33, batch_size= 10, nb_epoch = 100)"
   ]
  },
  {
   "cell_type": "code",
   "execution_count": 36,
   "metadata": {},
   "outputs": [
    {
     "name": "stdout",
     "output_type": "stream",
     "text": [
      "Model: \"sequential_1\"\n",
      "_________________________________________________________________\n",
      "Layer (type)                 Output Shape              Param #   \n",
      "=================================================================\n",
      "dense_1 (Dense)              (None, 6)                 72        \n",
      "_________________________________________________________________\n",
      "dense_2 (Dense)              (None, 6)                 42        \n",
      "_________________________________________________________________\n",
      "dense_3 (Dense)              (None, 6)                 42        \n",
      "_________________________________________________________________\n",
      "dense_4 (Dense)              (None, 1)                 7         \n",
      "=================================================================\n",
      "Total params: 163\n",
      "Trainable params: 163\n",
      "Non-trainable params: 0\n",
      "_________________________________________________________________\n"
     ]
    }
   ],
   "source": [
    "classifier.summary()"
   ]
  },
  {
   "cell_type": "markdown",
   "metadata": {},
   "source": [
    "- Total Params means number or weights and bias"
   ]
  },
  {
   "cell_type": "code",
   "execution_count": 38,
   "metadata": {},
   "outputs": [],
   "source": [
    "# Predicting the test set results\n",
    "\n",
    "y_pred = classifier.predict(X_test)\n",
    "y_pred = (y_pred > 0.5)"
   ]
  },
  {
   "cell_type": "code",
   "execution_count": 39,
   "metadata": {},
   "outputs": [],
   "source": [
    "# making Confusion Matrix\n",
    "\n",
    "from sklearn.metrics import confusion_matrix\n",
    "cm = confusion_matrix(y_test, y_pred) "
   ]
  },
  {
   "cell_type": "code",
   "execution_count": 40,
   "metadata": {},
   "outputs": [
    {
     "data": {
      "text/plain": [
       "array([[1536,   59],\n",
       "       [ 219,  186]], dtype=int64)"
      ]
     },
     "execution_count": 40,
     "metadata": {},
     "output_type": "execute_result"
    }
   ],
   "source": [
    "cm"
   ]
  },
  {
   "cell_type": "code",
   "execution_count": 41,
   "metadata": {},
   "outputs": [],
   "source": [
    "# Calculate Test accuracy\n",
    "\n",
    "from sklearn.metrics import accuracy_score\n",
    "score = accuracy_score(y_pred, y_test)"
   ]
  },
  {
   "cell_type": "code",
   "execution_count": 42,
   "metadata": {},
   "outputs": [
    {
     "data": {
      "text/plain": [
       "0.861"
      ]
     },
     "execution_count": 42,
     "metadata": {},
     "output_type": "execute_result"
    }
   ],
   "source": [
    "score"
   ]
  },
  {
   "cell_type": "code",
   "execution_count": null,
   "metadata": {},
   "outputs": [],
   "source": []
  }
 ],
 "metadata": {
  "kernelspec": {
   "display_name": "Python 3",
   "language": "python",
   "name": "python3"
  },
  "language_info": {
   "codemirror_mode": {
    "name": "ipython",
    "version": 3
   },
   "file_extension": ".py",
   "mimetype": "text/x-python",
   "name": "python",
   "nbconvert_exporter": "python",
   "pygments_lexer": "ipython3",
   "version": "3.7.3"
  }
 },
 "nbformat": 4,
 "nbformat_minor": 2
}
