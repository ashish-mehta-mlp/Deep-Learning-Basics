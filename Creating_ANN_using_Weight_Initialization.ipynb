{
  "nbformat": 4,
  "nbformat_minor": 0,
  "metadata": {
    "colab": {
      "name": "Creating ANN using Weight Initialization.ipynb",
      "provenance": []
    },
    "kernelspec": {
      "name": "python3",
      "display_name": "Python 3"
    },
    "accelerator": "GPU"
  },
  "cells": [
    {
      "cell_type": "code",
      "metadata": {
        "id": "L4zGHuIH-bTy",
        "colab_type": "code",
        "outputId": "b28037a4-81a9-487e-ffd6-9cf63756ea90",
        "colab": {
          "base_uri": "https://localhost:8080/",
          "height": 34
        }
      },
      "source": [
        "# Test whether GPU is working\n",
        "\n",
        "import tensorflow as tf\n",
        "tf.test.gpu_device_name()"
      ],
      "execution_count": 0,
      "outputs": [
        {
          "output_type": "execute_result",
          "data": {
            "text/plain": [
              "'/device:GPU:0'"
            ]
          },
          "metadata": {
            "tags": []
          },
          "execution_count": 1
        }
      ]
    },
    {
      "cell_type": "code",
      "metadata": {
        "id": "UMsvmJqx_4Ch",
        "colab_type": "code",
        "outputId": "66b35dfc-d58b-41fe-8b03-966afb29baf1",
        "colab": {
          "base_uri": "https://localhost:8080/",
          "height": 476
        }
      },
      "source": [
        "# Which GPU we are using?\n",
        "\n",
        "from tensorflow.python.client import device_lib\n",
        "device_lib.list_local_devices()"
      ],
      "execution_count": 0,
      "outputs": [
        {
          "output_type": "execute_result",
          "data": {
            "text/plain": [
              "[name: \"/device:CPU:0\"\n",
              " device_type: \"CPU\"\n",
              " memory_limit: 268435456\n",
              " locality {\n",
              " }\n",
              " incarnation: 5998076843766028882, name: \"/device:XLA_CPU:0\"\n",
              " device_type: \"XLA_CPU\"\n",
              " memory_limit: 17179869184\n",
              " locality {\n",
              " }\n",
              " incarnation: 21075952074333441\n",
              " physical_device_desc: \"device: XLA_CPU device\", name: \"/device:XLA_GPU:0\"\n",
              " device_type: \"XLA_GPU\"\n",
              " memory_limit: 17179869184\n",
              " locality {\n",
              " }\n",
              " incarnation: 2078464828407377845\n",
              " physical_device_desc: \"device: XLA_GPU device\", name: \"/device:GPU:0\"\n",
              " device_type: \"GPU\"\n",
              " memory_limit: 15701278720\n",
              " locality {\n",
              "   bus_id: 1\n",
              "   links {\n",
              "   }\n",
              " }\n",
              " incarnation: 7016723938224891071\n",
              " physical_device_desc: \"device: 0, name: Tesla P100-PCIE-16GB, pci bus id: 0000:00:04.0, compute capability: 6.0\"]"
            ]
          },
          "metadata": {
            "tags": []
          },
          "execution_count": 2
        }
      ]
    },
    {
      "cell_type": "code",
      "metadata": {
        "id": "pbjb0oTY_96Z",
        "colab_type": "code",
        "outputId": "f8ee3299-3057-4356-a8f5-1c4e92c56942",
        "colab": {
          "base_uri": "https://localhost:8080/",
          "height": 816
        }
      },
      "source": [
        "#RAM information\n",
        "\n",
        "!cat /proc/meminfo"
      ],
      "execution_count": 0,
      "outputs": [
        {
          "output_type": "stream",
          "text": [
            "MemTotal:       13333556 kB\n",
            "MemFree:         9152932 kB\n",
            "MemAvailable:   11856236 kB\n",
            "Buffers:           74780 kB\n",
            "Cached:          2742560 kB\n",
            "SwapCached:            0 kB\n",
            "Active:          1219636 kB\n",
            "Inactive:        2544044 kB\n",
            "Active(anon):     875592 kB\n",
            "Inactive(anon):     8524 kB\n",
            "Active(file):     344044 kB\n",
            "Inactive(file):  2535520 kB\n",
            "Unevictable:           0 kB\n",
            "Mlocked:               0 kB\n",
            "SwapTotal:             0 kB\n",
            "SwapFree:              0 kB\n",
            "Dirty:               492 kB\n",
            "Writeback:             0 kB\n",
            "AnonPages:        946344 kB\n",
            "Mapped:           687428 kB\n",
            "Shmem:              9144 kB\n",
            "Slab:             175852 kB\n",
            "SReclaimable:     129268 kB\n",
            "SUnreclaim:        46584 kB\n",
            "KernelStack:        4448 kB\n",
            "PageTables:         9248 kB\n",
            "NFS_Unstable:          0 kB\n",
            "Bounce:                0 kB\n",
            "WritebackTmp:          0 kB\n",
            "CommitLimit:     6666776 kB\n",
            "Committed_AS:    3514752 kB\n",
            "VmallocTotal:   34359738367 kB\n",
            "VmallocUsed:           0 kB\n",
            "VmallocChunk:          0 kB\n",
            "Percpu:              920 kB\n",
            "AnonHugePages:         0 kB\n",
            "ShmemHugePages:        0 kB\n",
            "ShmemPmdMapped:        0 kB\n",
            "HugePages_Total:       0\n",
            "HugePages_Free:        0\n",
            "HugePages_Rsvd:        0\n",
            "HugePages_Surp:        0\n",
            "Hugepagesize:       2048 kB\n",
            "Hugetlb:               0 kB\n",
            "DirectMap4k:      197820 kB\n",
            "DirectMap2M:     7141376 kB\n",
            "DirectMap1G:     8388608 kB\n"
          ],
          "name": "stdout"
        }
      ]
    },
    {
      "cell_type": "code",
      "metadata": {
        "id": "V_A1BNEMABAF",
        "colab_type": "code",
        "outputId": "3b044f13-854e-4227-b586-87fee8bd4720",
        "colab": {
          "base_uri": "https://localhost:8080/",
          "height": 955
        }
      },
      "source": [
        "#CPU information\n",
        "\n",
        "!cat /proc/cpuinfo"
      ],
      "execution_count": 0,
      "outputs": [
        {
          "output_type": "stream",
          "text": [
            "processor\t: 0\n",
            "vendor_id\t: GenuineIntel\n",
            "cpu family\t: 6\n",
            "model\t\t: 63\n",
            "model name\t: Intel(R) Xeon(R) CPU @ 2.30GHz\n",
            "stepping\t: 0\n",
            "microcode\t: 0x1\n",
            "cpu MHz\t\t: 2300.000\n",
            "cache size\t: 46080 KB\n",
            "physical id\t: 0\n",
            "siblings\t: 2\n",
            "core id\t\t: 0\n",
            "cpu cores\t: 1\n",
            "apicid\t\t: 0\n",
            "initial apicid\t: 0\n",
            "fpu\t\t: yes\n",
            "fpu_exception\t: yes\n",
            "cpuid level\t: 13\n",
            "wp\t\t: yes\n",
            "flags\t\t: fpu vme de pse tsc msr pae mce cx8 apic sep mtrr pge mca cmov pat pse36 clflush mmx fxsr sse sse2 ss ht syscall nx pdpe1gb rdtscp lm constant_tsc rep_good nopl xtopology nonstop_tsc cpuid tsc_known_freq pni pclmulqdq ssse3 fma cx16 pcid sse4_1 sse4_2 x2apic movbe popcnt aes xsave avx f16c rdrand hypervisor lahf_lm abm invpcid_single ssbd ibrs ibpb stibp fsgsbase tsc_adjust bmi1 avx2 smep bmi2 erms invpcid xsaveopt arat md_clear arch_capabilities\n",
            "bugs\t\t: cpu_meltdown spectre_v1 spectre_v2 spec_store_bypass l1tf mds swapgs itlb_multihit\n",
            "bogomips\t: 4600.00\n",
            "clflush size\t: 64\n",
            "cache_alignment\t: 64\n",
            "address sizes\t: 46 bits physical, 48 bits virtual\n",
            "power management:\n",
            "\n",
            "processor\t: 1\n",
            "vendor_id\t: GenuineIntel\n",
            "cpu family\t: 6\n",
            "model\t\t: 63\n",
            "model name\t: Intel(R) Xeon(R) CPU @ 2.30GHz\n",
            "stepping\t: 0\n",
            "microcode\t: 0x1\n",
            "cpu MHz\t\t: 2300.000\n",
            "cache size\t: 46080 KB\n",
            "physical id\t: 0\n",
            "siblings\t: 2\n",
            "core id\t\t: 0\n",
            "cpu cores\t: 1\n",
            "apicid\t\t: 1\n",
            "initial apicid\t: 1\n",
            "fpu\t\t: yes\n",
            "fpu_exception\t: yes\n",
            "cpuid level\t: 13\n",
            "wp\t\t: yes\n",
            "flags\t\t: fpu vme de pse tsc msr pae mce cx8 apic sep mtrr pge mca cmov pat pse36 clflush mmx fxsr sse sse2 ss ht syscall nx pdpe1gb rdtscp lm constant_tsc rep_good nopl xtopology nonstop_tsc cpuid tsc_known_freq pni pclmulqdq ssse3 fma cx16 pcid sse4_1 sse4_2 x2apic movbe popcnt aes xsave avx f16c rdrand hypervisor lahf_lm abm invpcid_single ssbd ibrs ibpb stibp fsgsbase tsc_adjust bmi1 avx2 smep bmi2 erms invpcid xsaveopt arat md_clear arch_capabilities\n",
            "bugs\t\t: cpu_meltdown spectre_v1 spectre_v2 spec_store_bypass l1tf mds swapgs itlb_multihit\n",
            "bogomips\t: 4600.00\n",
            "clflush size\t: 64\n",
            "cache_alignment\t: 64\n",
            "address sizes\t: 46 bits physical, 48 bits virtual\n",
            "power management:\n",
            "\n"
          ],
          "name": "stdout"
        }
      ]
    },
    {
      "cell_type": "code",
      "metadata": {
        "id": "-EZTpOK0AFud",
        "colab_type": "code",
        "colab": {}
      },
      "source": [
        "!pip install -q keras"
      ],
      "execution_count": 0,
      "outputs": []
    },
    {
      "cell_type": "code",
      "metadata": {
        "id": "8RWntmg6APSs",
        "colab_type": "code",
        "colab": {}
      },
      "source": [
        "# Importing libraries\n",
        "\n",
        "import pandas as pd\n",
        "import numpy as np\n",
        "import matplotlib.pyplot as plt"
      ],
      "execution_count": 0,
      "outputs": []
    },
    {
      "cell_type": "code",
      "metadata": {
        "id": "Qgy6LyHpAbgt",
        "colab_type": "code",
        "outputId": "1c780ffa-98c7-46e7-babd-dbf71310f99a",
        "colab": {
          "base_uri": "https://localhost:8080/",
          "height": 204
        }
      },
      "source": [
        "dataset = pd.read_csv(\"/content/drive/My Drive/CSV files for Deep learning and ML/Churn_Modelling.txt\", sep = \",\")\n",
        "dataset.head()"
      ],
      "execution_count": 0,
      "outputs": [
        {
          "output_type": "execute_result",
          "data": {
            "text/html": [
              "<div>\n",
              "<style scoped>\n",
              "    .dataframe tbody tr th:only-of-type {\n",
              "        vertical-align: middle;\n",
              "    }\n",
              "\n",
              "    .dataframe tbody tr th {\n",
              "        vertical-align: top;\n",
              "    }\n",
              "\n",
              "    .dataframe thead th {\n",
              "        text-align: right;\n",
              "    }\n",
              "</style>\n",
              "<table border=\"1\" class=\"dataframe\">\n",
              "  <thead>\n",
              "    <tr style=\"text-align: right;\">\n",
              "      <th></th>\n",
              "      <th>RowNumber</th>\n",
              "      <th>CustomerId</th>\n",
              "      <th>Surname</th>\n",
              "      <th>CreditScore</th>\n",
              "      <th>Geography</th>\n",
              "      <th>Gender</th>\n",
              "      <th>Age</th>\n",
              "      <th>Tenure</th>\n",
              "      <th>Balance</th>\n",
              "      <th>NumOfProducts</th>\n",
              "      <th>HasCrCard</th>\n",
              "      <th>IsActiveMember</th>\n",
              "      <th>EstimatedSalary</th>\n",
              "      <th>Exited</th>\n",
              "    </tr>\n",
              "  </thead>\n",
              "  <tbody>\n",
              "    <tr>\n",
              "      <th>0</th>\n",
              "      <td>1</td>\n",
              "      <td>15634602</td>\n",
              "      <td>Hargrave</td>\n",
              "      <td>619</td>\n",
              "      <td>France</td>\n",
              "      <td>Female</td>\n",
              "      <td>42</td>\n",
              "      <td>2</td>\n",
              "      <td>0.00</td>\n",
              "      <td>1</td>\n",
              "      <td>1</td>\n",
              "      <td>1</td>\n",
              "      <td>101348.88</td>\n",
              "      <td>1</td>\n",
              "    </tr>\n",
              "    <tr>\n",
              "      <th>1</th>\n",
              "      <td>2</td>\n",
              "      <td>15647311</td>\n",
              "      <td>Hill</td>\n",
              "      <td>608</td>\n",
              "      <td>Spain</td>\n",
              "      <td>Female</td>\n",
              "      <td>41</td>\n",
              "      <td>1</td>\n",
              "      <td>83807.86</td>\n",
              "      <td>1</td>\n",
              "      <td>0</td>\n",
              "      <td>1</td>\n",
              "      <td>112542.58</td>\n",
              "      <td>0</td>\n",
              "    </tr>\n",
              "    <tr>\n",
              "      <th>2</th>\n",
              "      <td>3</td>\n",
              "      <td>15619304</td>\n",
              "      <td>Onio</td>\n",
              "      <td>502</td>\n",
              "      <td>France</td>\n",
              "      <td>Female</td>\n",
              "      <td>42</td>\n",
              "      <td>8</td>\n",
              "      <td>159660.80</td>\n",
              "      <td>3</td>\n",
              "      <td>1</td>\n",
              "      <td>0</td>\n",
              "      <td>113931.57</td>\n",
              "      <td>1</td>\n",
              "    </tr>\n",
              "    <tr>\n",
              "      <th>3</th>\n",
              "      <td>4</td>\n",
              "      <td>15701354</td>\n",
              "      <td>Boni</td>\n",
              "      <td>699</td>\n",
              "      <td>France</td>\n",
              "      <td>Female</td>\n",
              "      <td>39</td>\n",
              "      <td>1</td>\n",
              "      <td>0.00</td>\n",
              "      <td>2</td>\n",
              "      <td>0</td>\n",
              "      <td>0</td>\n",
              "      <td>93826.63</td>\n",
              "      <td>0</td>\n",
              "    </tr>\n",
              "    <tr>\n",
              "      <th>4</th>\n",
              "      <td>5</td>\n",
              "      <td>15737888</td>\n",
              "      <td>Mitchell</td>\n",
              "      <td>850</td>\n",
              "      <td>Spain</td>\n",
              "      <td>Female</td>\n",
              "      <td>43</td>\n",
              "      <td>2</td>\n",
              "      <td>125510.82</td>\n",
              "      <td>1</td>\n",
              "      <td>1</td>\n",
              "      <td>1</td>\n",
              "      <td>79084.10</td>\n",
              "      <td>0</td>\n",
              "    </tr>\n",
              "  </tbody>\n",
              "</table>\n",
              "</div>"
            ],
            "text/plain": [
              "   RowNumber  CustomerId   Surname  ...  IsActiveMember EstimatedSalary Exited\n",
              "0          1    15634602  Hargrave  ...               1       101348.88      1\n",
              "1          2    15647311      Hill  ...               1       112542.58      0\n",
              "2          3    15619304      Onio  ...               0       113931.57      1\n",
              "3          4    15701354      Boni  ...               0        93826.63      0\n",
              "4          5    15737888  Mitchell  ...               1        79084.10      0\n",
              "\n",
              "[5 rows x 14 columns]"
            ]
          },
          "metadata": {
            "tags": []
          },
          "execution_count": 8
        }
      ]
    },
    {
      "cell_type": "code",
      "metadata": {
        "id": "55cmLh_OAliW",
        "colab_type": "code",
        "outputId": "3fb0d5fa-bf0b-4ef9-b1e8-2d4d6ecf4cac",
        "colab": {
          "base_uri": "https://localhost:8080/",
          "height": 34
        }
      },
      "source": [
        "dataset.shape"
      ],
      "execution_count": 0,
      "outputs": [
        {
          "output_type": "execute_result",
          "data": {
            "text/plain": [
              "(10000, 14)"
            ]
          },
          "metadata": {
            "tags": []
          },
          "execution_count": 9
        }
      ]
    },
    {
      "cell_type": "code",
      "metadata": {
        "id": "jwLziPIvA2Ky",
        "colab_type": "code",
        "colab": {}
      },
      "source": [
        "# Creating dependent and independent feature dataset\n",
        "\n",
        "X = dataset.iloc[:, 3:13]\n",
        "y = dataset.iloc[:, 13]"
      ],
      "execution_count": 0,
      "outputs": []
    },
    {
      "cell_type": "code",
      "metadata": {
        "id": "87Bxh-fZA4eI",
        "colab_type": "code",
        "outputId": "422a6c15-ffc8-4a14-9cc9-92deb4b7e58c",
        "colab": {
          "base_uri": "https://localhost:8080/",
          "height": 204
        }
      },
      "source": [
        "X.head()"
      ],
      "execution_count": 0,
      "outputs": [
        {
          "output_type": "execute_result",
          "data": {
            "text/html": [
              "<div>\n",
              "<style scoped>\n",
              "    .dataframe tbody tr th:only-of-type {\n",
              "        vertical-align: middle;\n",
              "    }\n",
              "\n",
              "    .dataframe tbody tr th {\n",
              "        vertical-align: top;\n",
              "    }\n",
              "\n",
              "    .dataframe thead th {\n",
              "        text-align: right;\n",
              "    }\n",
              "</style>\n",
              "<table border=\"1\" class=\"dataframe\">\n",
              "  <thead>\n",
              "    <tr style=\"text-align: right;\">\n",
              "      <th></th>\n",
              "      <th>CreditScore</th>\n",
              "      <th>Geography</th>\n",
              "      <th>Gender</th>\n",
              "      <th>Age</th>\n",
              "      <th>Tenure</th>\n",
              "      <th>Balance</th>\n",
              "      <th>NumOfProducts</th>\n",
              "      <th>HasCrCard</th>\n",
              "      <th>IsActiveMember</th>\n",
              "      <th>EstimatedSalary</th>\n",
              "    </tr>\n",
              "  </thead>\n",
              "  <tbody>\n",
              "    <tr>\n",
              "      <th>0</th>\n",
              "      <td>619</td>\n",
              "      <td>France</td>\n",
              "      <td>Female</td>\n",
              "      <td>42</td>\n",
              "      <td>2</td>\n",
              "      <td>0.00</td>\n",
              "      <td>1</td>\n",
              "      <td>1</td>\n",
              "      <td>1</td>\n",
              "      <td>101348.88</td>\n",
              "    </tr>\n",
              "    <tr>\n",
              "      <th>1</th>\n",
              "      <td>608</td>\n",
              "      <td>Spain</td>\n",
              "      <td>Female</td>\n",
              "      <td>41</td>\n",
              "      <td>1</td>\n",
              "      <td>83807.86</td>\n",
              "      <td>1</td>\n",
              "      <td>0</td>\n",
              "      <td>1</td>\n",
              "      <td>112542.58</td>\n",
              "    </tr>\n",
              "    <tr>\n",
              "      <th>2</th>\n",
              "      <td>502</td>\n",
              "      <td>France</td>\n",
              "      <td>Female</td>\n",
              "      <td>42</td>\n",
              "      <td>8</td>\n",
              "      <td>159660.80</td>\n",
              "      <td>3</td>\n",
              "      <td>1</td>\n",
              "      <td>0</td>\n",
              "      <td>113931.57</td>\n",
              "    </tr>\n",
              "    <tr>\n",
              "      <th>3</th>\n",
              "      <td>699</td>\n",
              "      <td>France</td>\n",
              "      <td>Female</td>\n",
              "      <td>39</td>\n",
              "      <td>1</td>\n",
              "      <td>0.00</td>\n",
              "      <td>2</td>\n",
              "      <td>0</td>\n",
              "      <td>0</td>\n",
              "      <td>93826.63</td>\n",
              "    </tr>\n",
              "    <tr>\n",
              "      <th>4</th>\n",
              "      <td>850</td>\n",
              "      <td>Spain</td>\n",
              "      <td>Female</td>\n",
              "      <td>43</td>\n",
              "      <td>2</td>\n",
              "      <td>125510.82</td>\n",
              "      <td>1</td>\n",
              "      <td>1</td>\n",
              "      <td>1</td>\n",
              "      <td>79084.10</td>\n",
              "    </tr>\n",
              "  </tbody>\n",
              "</table>\n",
              "</div>"
            ],
            "text/plain": [
              "   CreditScore Geography  Gender  ...  HasCrCard  IsActiveMember  EstimatedSalary\n",
              "0          619    France  Female  ...          1               1        101348.88\n",
              "1          608     Spain  Female  ...          0               1        112542.58\n",
              "2          502    France  Female  ...          1               0        113931.57\n",
              "3          699    France  Female  ...          0               0         93826.63\n",
              "4          850     Spain  Female  ...          1               1         79084.10\n",
              "\n",
              "[5 rows x 10 columns]"
            ]
          },
          "metadata": {
            "tags": []
          },
          "execution_count": 11
        }
      ]
    },
    {
      "cell_type": "code",
      "metadata": {
        "id": "DVJQLvnbA6sh",
        "colab_type": "code",
        "colab": {}
      },
      "source": [
        "# Create dummy variables\n",
        "geography = pd.get_dummies(X[\"Geography\"], drop_first = True)\n",
        "gender = pd.get_dummies(X[\"Gender\"], drop_first = True)"
      ],
      "execution_count": 0,
      "outputs": []
    },
    {
      "cell_type": "code",
      "metadata": {
        "id": "4cU_K6mlA_jm",
        "colab_type": "code",
        "colab": {}
      },
      "source": [
        "# Concatenate dummy variables to the dataframe\n",
        "\n",
        "X = pd.concat([X, geography, gender], axis = 1)"
      ],
      "execution_count": 0,
      "outputs": []
    },
    {
      "cell_type": "code",
      "metadata": {
        "id": "8iWH6PVjBCBe",
        "colab_type": "code",
        "colab": {}
      },
      "source": [
        "## Drop Unwanted categorical columns\n",
        "\n",
        "X = X.drop([\"Geography\", \"Gender\"], axis = 1)"
      ],
      "execution_count": 0,
      "outputs": []
    },
    {
      "cell_type": "code",
      "metadata": {
        "id": "87UJ8Nh9BEUK",
        "colab_type": "code",
        "colab": {}
      },
      "source": [
        "# Splitting the data into training and testing data\n",
        "\n",
        "from sklearn.model_selection import train_test_split\n",
        "X_train, X_test, y_train, y_test = train_test_split(X, y, test_size = 0.2, random_state = 0)"
      ],
      "execution_count": 0,
      "outputs": []
    },
    {
      "cell_type": "code",
      "metadata": {
        "id": "gx6mZxoaBHUT",
        "colab_type": "code",
        "colab": {}
      },
      "source": [
        "# Feature Scaling\n",
        "\n",
        "from sklearn.preprocessing import StandardScaler\n",
        "sc = StandardScaler()\n",
        "X_train = sc.fit_transform(X_train)\n",
        "X_test = sc.transform(X_test)"
      ],
      "execution_count": 0,
      "outputs": []
    },
    {
      "cell_type": "code",
      "metadata": {
        "id": "5CrrRSRfBKqn",
        "colab_type": "code",
        "outputId": "6a031f46-3a5f-44ee-eb4b-dcd91ee1bb5f",
        "colab": {
          "base_uri": "https://localhost:8080/",
          "height": 34
        }
      },
      "source": [
        "# Importing Keras Libraries and Packages\n",
        "\n",
        "import keras\n",
        "from keras.models import Sequential\n",
        "from keras.layers import Dense\n",
        "from keras.layers import Dropout\n",
        "from keras.layers import LeakyReLU, PReLU, ELU"
      ],
      "execution_count": 0,
      "outputs": [
        {
          "output_type": "stream",
          "text": [
            "Using TensorFlow backend.\n"
          ],
          "name": "stderr"
        }
      ]
    },
    {
      "cell_type": "code",
      "metadata": {
        "id": "fXW4VQaABNIM",
        "colab_type": "code",
        "colab": {}
      },
      "source": [
        "# Initializing The ANN\n",
        "\n",
        "classifier = Sequential() # This is an empty neural network"
      ],
      "execution_count": 0,
      "outputs": []
    },
    {
      "cell_type": "code",
      "metadata": {
        "id": "s11AdgweBYX2",
        "colab_type": "code",
        "colab": {}
      },
      "source": [
        "# Adding the input layer and first hidden layer\n",
        "classifier.add(Dense(units = 6, kernel_initializer = \"he_uniform\", activation = \"relu\", input_dim = 11))\n",
        "classifier.add(Dropout(0.3))"
      ],
      "execution_count": 0,
      "outputs": []
    },
    {
      "cell_type": "code",
      "metadata": {
        "id": "HbFv4yxXCRty",
        "colab_type": "code",
        "colab": {}
      },
      "source": [
        "# Adding the second hidden layer\n",
        "\n",
        "classifier.add(Dense(units = 10, kernel_initializer = \"he_uniform\", activation = \"relu\"))\n",
        "classifier.add(Dropout(0.3))"
      ],
      "execution_count": 0,
      "outputs": []
    },
    {
      "cell_type": "code",
      "metadata": {
        "id": "8_iErLZKCXzn",
        "colab_type": "code",
        "colab": {}
      },
      "source": [
        "# Adding the third hidden layer\n",
        "\n",
        "classifier.add(Dense(units = 12, kernel_initializer = \"he_uniform\", activation = \"relu\"))\n",
        "classifier.add(Dropout(0.2))"
      ],
      "execution_count": 0,
      "outputs": []
    },
    {
      "cell_type": "code",
      "metadata": {
        "id": "ScmbCEJzCfcd",
        "colab_type": "code",
        "colab": {}
      },
      "source": [
        "# Adding the output layer\n",
        "\n",
        "classifier.add(Dense(units = 1, kernel_initializer = \"glorot_uniform\", activation = \"sigmoid\"))"
      ],
      "execution_count": 0,
      "outputs": []
    },
    {
      "cell_type": "code",
      "metadata": {
        "id": "p8-nCmtfCi3Z",
        "colab_type": "code",
        "colab": {}
      },
      "source": [
        "# Compiling the ANN\n",
        "classifier.compile(optimizer=\"Adamax\", loss = \"binary_crossentropy\", metrics = [\"accuracy\"])"
      ],
      "execution_count": 0,
      "outputs": []
    },
    {
      "cell_type": "code",
      "metadata": {
        "id": "ICCiEeG2CmXW",
        "colab_type": "code",
        "outputId": "fa21d20b-4966-4293-8b61-d73b5b0ee010",
        "colab": {
          "base_uri": "https://localhost:8080/",
          "height": 1000
        }
      },
      "source": [
        "# Fitting the ANN to Training Set\n",
        "\n",
        "model_history = classifier.fit(X_train, y_train, validation_split= 0.33, batch_size= 10, nb_epoch = 100)"
      ],
      "execution_count": 0,
      "outputs": [
        {
          "output_type": "stream",
          "text": [
            "/usr/local/lib/python3.6/dist-packages/ipykernel_launcher.py:2: UserWarning: The `nb_epoch` argument in `fit` has been renamed `epochs`.\n",
            "  \n"
          ],
          "name": "stderr"
        },
        {
          "output_type": "stream",
          "text": [
            "Train on 5359 samples, validate on 2641 samples\n",
            "Epoch 1/100\n",
            "5359/5359 [==============================] - 4s 825us/step - loss: 0.6089 - accuracy: 0.7404 - val_loss: 0.5093 - val_accuracy: 0.7955\n",
            "Epoch 2/100\n",
            "5359/5359 [==============================] - 3s 506us/step - loss: 0.5337 - accuracy: 0.7923 - val_loss: 0.4954 - val_accuracy: 0.7955\n",
            "Epoch 3/100\n",
            "5359/5359 [==============================] - 3s 504us/step - loss: 0.5187 - accuracy: 0.7942 - val_loss: 0.4903 - val_accuracy: 0.7955\n",
            "Epoch 4/100\n",
            "5359/5359 [==============================] - 3s 528us/step - loss: 0.5074 - accuracy: 0.7960 - val_loss: 0.4867 - val_accuracy: 0.7955\n",
            "Epoch 5/100\n",
            "5359/5359 [==============================] - 3s 531us/step - loss: 0.4992 - accuracy: 0.7949 - val_loss: 0.4812 - val_accuracy: 0.7955\n",
            "Epoch 6/100\n",
            "5359/5359 [==============================] - 3s 493us/step - loss: 0.4939 - accuracy: 0.7970 - val_loss: 0.4753 - val_accuracy: 0.7955\n",
            "Epoch 7/100\n",
            "5359/5359 [==============================] - 3s 487us/step - loss: 0.4903 - accuracy: 0.7970 - val_loss: 0.4703 - val_accuracy: 0.7963\n",
            "Epoch 8/100\n",
            "5359/5359 [==============================] - 3s 492us/step - loss: 0.4818 - accuracy: 0.7987 - val_loss: 0.4641 - val_accuracy: 0.7970\n",
            "Epoch 9/100\n",
            "5359/5359 [==============================] - 3s 576us/step - loss: 0.4802 - accuracy: 0.7996 - val_loss: 0.4590 - val_accuracy: 0.7970\n",
            "Epoch 10/100\n",
            "5359/5359 [==============================] - 3s 548us/step - loss: 0.4757 - accuracy: 0.8000 - val_loss: 0.4562 - val_accuracy: 0.7970\n",
            "Epoch 11/100\n",
            "5359/5359 [==============================] - 3s 489us/step - loss: 0.4713 - accuracy: 0.8009 - val_loss: 0.4534 - val_accuracy: 0.7970\n",
            "Epoch 12/100\n",
            "5359/5359 [==============================] - 3s 480us/step - loss: 0.4744 - accuracy: 0.8001 - val_loss: 0.4515 - val_accuracy: 0.7978\n",
            "Epoch 13/100\n",
            "5359/5359 [==============================] - 3s 522us/step - loss: 0.4698 - accuracy: 0.8043 - val_loss: 0.4489 - val_accuracy: 0.7982\n",
            "Epoch 14/100\n",
            "5359/5359 [==============================] - 3s 500us/step - loss: 0.4641 - accuracy: 0.8061 - val_loss: 0.4467 - val_accuracy: 0.8005\n",
            "Epoch 15/100\n",
            "5359/5359 [==============================] - 3s 490us/step - loss: 0.4642 - accuracy: 0.8061 - val_loss: 0.4454 - val_accuracy: 0.8035\n",
            "Epoch 16/100\n",
            "5359/5359 [==============================] - 3s 521us/step - loss: 0.4556 - accuracy: 0.8061 - val_loss: 0.4422 - val_accuracy: 0.8035\n",
            "Epoch 17/100\n",
            "5359/5359 [==============================] - 3s 535us/step - loss: 0.4549 - accuracy: 0.8052 - val_loss: 0.4415 - val_accuracy: 0.8035\n",
            "Epoch 18/100\n",
            "5359/5359 [==============================] - 3s 539us/step - loss: 0.4497 - accuracy: 0.8130 - val_loss: 0.4379 - val_accuracy: 0.8084\n",
            "Epoch 19/100\n",
            "5359/5359 [==============================] - 3s 533us/step - loss: 0.4511 - accuracy: 0.8097 - val_loss: 0.4371 - val_accuracy: 0.8050\n",
            "Epoch 20/100\n",
            "5359/5359 [==============================] - 3s 556us/step - loss: 0.4519 - accuracy: 0.8087 - val_loss: 0.4348 - val_accuracy: 0.8103\n",
            "Epoch 21/100\n",
            "5359/5359 [==============================] - 3s 504us/step - loss: 0.4542 - accuracy: 0.8078 - val_loss: 0.4351 - val_accuracy: 0.8042\n",
            "Epoch 22/100\n",
            "5359/5359 [==============================] - 3s 528us/step - loss: 0.4530 - accuracy: 0.8072 - val_loss: 0.4337 - val_accuracy: 0.8027\n",
            "Epoch 23/100\n",
            "5359/5359 [==============================] - 3s 526us/step - loss: 0.4410 - accuracy: 0.8108 - val_loss: 0.4302 - val_accuracy: 0.8069\n",
            "Epoch 24/100\n",
            "5359/5359 [==============================] - 3s 533us/step - loss: 0.4487 - accuracy: 0.8076 - val_loss: 0.4311 - val_accuracy: 0.8058\n",
            "Epoch 25/100\n",
            "5359/5359 [==============================] - 3s 499us/step - loss: 0.4420 - accuracy: 0.8104 - val_loss: 0.4291 - val_accuracy: 0.8084\n",
            "Epoch 26/100\n",
            "5359/5359 [==============================] - 3s 483us/step - loss: 0.4434 - accuracy: 0.8097 - val_loss: 0.4273 - val_accuracy: 0.8092\n",
            "Epoch 27/100\n",
            "5359/5359 [==============================] - 3s 559us/step - loss: 0.4437 - accuracy: 0.8125 - val_loss: 0.4268 - val_accuracy: 0.8095\n",
            "Epoch 28/100\n",
            "5359/5359 [==============================] - 3s 523us/step - loss: 0.4448 - accuracy: 0.8078 - val_loss: 0.4261 - val_accuracy: 0.8058\n",
            "Epoch 29/100\n",
            "5359/5359 [==============================] - 3s 501us/step - loss: 0.4421 - accuracy: 0.8136 - val_loss: 0.4251 - val_accuracy: 0.8103\n",
            "Epoch 30/100\n",
            "5359/5359 [==============================] - 3s 504us/step - loss: 0.4426 - accuracy: 0.8132 - val_loss: 0.4248 - val_accuracy: 0.8092\n",
            "Epoch 31/100\n",
            "5359/5359 [==============================] - 3s 488us/step - loss: 0.4377 - accuracy: 0.8127 - val_loss: 0.4225 - val_accuracy: 0.8103\n",
            "Epoch 32/100\n",
            "5359/5359 [==============================] - 3s 479us/step - loss: 0.4368 - accuracy: 0.8160 - val_loss: 0.4219 - val_accuracy: 0.8111\n",
            "Epoch 33/100\n",
            "5359/5359 [==============================] - 3s 494us/step - loss: 0.4363 - accuracy: 0.8143 - val_loss: 0.4203 - val_accuracy: 0.8118\n",
            "Epoch 34/100\n",
            "5359/5359 [==============================] - 3s 490us/step - loss: 0.4359 - accuracy: 0.8123 - val_loss: 0.4213 - val_accuracy: 0.8054\n",
            "Epoch 35/100\n",
            "5359/5359 [==============================] - 3s 485us/step - loss: 0.4367 - accuracy: 0.8143 - val_loss: 0.4202 - val_accuracy: 0.8111\n",
            "Epoch 36/100\n",
            "5359/5359 [==============================] - 3s 492us/step - loss: 0.4384 - accuracy: 0.8115 - val_loss: 0.4203 - val_accuracy: 0.8076\n",
            "Epoch 37/100\n",
            "5359/5359 [==============================] - 3s 536us/step - loss: 0.4321 - accuracy: 0.8177 - val_loss: 0.4173 - val_accuracy: 0.8133\n",
            "Epoch 38/100\n",
            "5359/5359 [==============================] - 3s 498us/step - loss: 0.4288 - accuracy: 0.8113 - val_loss: 0.4166 - val_accuracy: 0.8118\n",
            "Epoch 39/100\n",
            "5359/5359 [==============================] - 3s 559us/step - loss: 0.4295 - accuracy: 0.8168 - val_loss: 0.4163 - val_accuracy: 0.8137\n",
            "Epoch 40/100\n",
            "5359/5359 [==============================] - 3s 519us/step - loss: 0.4279 - accuracy: 0.8209 - val_loss: 0.4143 - val_accuracy: 0.8213\n",
            "Epoch 41/100\n",
            "5359/5359 [==============================] - 3s 503us/step - loss: 0.4259 - accuracy: 0.8168 - val_loss: 0.4129 - val_accuracy: 0.8213\n",
            "Epoch 42/100\n",
            "5359/5359 [==============================] - 3s 537us/step - loss: 0.4292 - accuracy: 0.8181 - val_loss: 0.4123 - val_accuracy: 0.8213\n",
            "Epoch 43/100\n",
            "5359/5359 [==============================] - 3s 513us/step - loss: 0.4368 - accuracy: 0.8168 - val_loss: 0.4152 - val_accuracy: 0.8148\n",
            "Epoch 44/100\n",
            "5359/5359 [==============================] - 3s 484us/step - loss: 0.4310 - accuracy: 0.8149 - val_loss: 0.4151 - val_accuracy: 0.8141\n",
            "Epoch 45/100\n",
            "5359/5359 [==============================] - 3s 505us/step - loss: 0.4314 - accuracy: 0.8158 - val_loss: 0.4142 - val_accuracy: 0.8137\n",
            "Epoch 46/100\n",
            "5359/5359 [==============================] - 3s 541us/step - loss: 0.4284 - accuracy: 0.8168 - val_loss: 0.4114 - val_accuracy: 0.8171\n",
            "Epoch 47/100\n",
            "5359/5359 [==============================] - 3s 563us/step - loss: 0.4270 - accuracy: 0.8186 - val_loss: 0.4114 - val_accuracy: 0.8198\n",
            "Epoch 48/100\n",
            "5359/5359 [==============================] - 3s 619us/step - loss: 0.4234 - accuracy: 0.8171 - val_loss: 0.4099 - val_accuracy: 0.8198\n",
            "Epoch 49/100\n",
            "5359/5359 [==============================] - 3s 506us/step - loss: 0.4297 - accuracy: 0.8177 - val_loss: 0.4097 - val_accuracy: 0.8186\n",
            "Epoch 50/100\n",
            "5359/5359 [==============================] - 3s 508us/step - loss: 0.4226 - accuracy: 0.8203 - val_loss: 0.4081 - val_accuracy: 0.8194\n",
            "Epoch 51/100\n",
            "5359/5359 [==============================] - 3s 509us/step - loss: 0.4208 - accuracy: 0.8192 - val_loss: 0.4057 - val_accuracy: 0.8220\n",
            "Epoch 52/100\n",
            "5359/5359 [==============================] - 3s 535us/step - loss: 0.4263 - accuracy: 0.8173 - val_loss: 0.4083 - val_accuracy: 0.8186\n",
            "Epoch 53/100\n",
            "5359/5359 [==============================] - 3s 573us/step - loss: 0.4212 - accuracy: 0.8238 - val_loss: 0.4072 - val_accuracy: 0.8179\n",
            "Epoch 54/100\n",
            "5359/5359 [==============================] - 3s 535us/step - loss: 0.4268 - accuracy: 0.8197 - val_loss: 0.4085 - val_accuracy: 0.8167\n",
            "Epoch 55/100\n",
            "5359/5359 [==============================] - 3s 538us/step - loss: 0.4257 - accuracy: 0.8136 - val_loss: 0.4084 - val_accuracy: 0.8145\n",
            "Epoch 56/100\n",
            "5359/5359 [==============================] - 3s 521us/step - loss: 0.4205 - accuracy: 0.8229 - val_loss: 0.4073 - val_accuracy: 0.8175\n",
            "Epoch 57/100\n",
            "5359/5359 [==============================] - 3s 597us/step - loss: 0.4159 - accuracy: 0.8201 - val_loss: 0.4044 - val_accuracy: 0.8190\n",
            "Epoch 58/100\n",
            "5359/5359 [==============================] - 3s 503us/step - loss: 0.4179 - accuracy: 0.8181 - val_loss: 0.4049 - val_accuracy: 0.8186\n",
            "Epoch 59/100\n",
            "5359/5359 [==============================] - 3s 551us/step - loss: 0.4191 - accuracy: 0.8216 - val_loss: 0.4036 - val_accuracy: 0.8198\n",
            "Epoch 60/100\n",
            "5359/5359 [==============================] - 3s 588us/step - loss: 0.4193 - accuracy: 0.8242 - val_loss: 0.4050 - val_accuracy: 0.8183\n",
            "Epoch 61/100\n",
            "5359/5359 [==============================] - 3s 518us/step - loss: 0.4206 - accuracy: 0.8199 - val_loss: 0.4042 - val_accuracy: 0.8183\n",
            "Epoch 62/100\n",
            "5359/5359 [==============================] - 3s 533us/step - loss: 0.4200 - accuracy: 0.8201 - val_loss: 0.4050 - val_accuracy: 0.8183\n",
            "Epoch 63/100\n",
            "5359/5359 [==============================] - 3s 579us/step - loss: 0.4168 - accuracy: 0.8222 - val_loss: 0.4023 - val_accuracy: 0.8205\n",
            "Epoch 64/100\n",
            "5359/5359 [==============================] - 3s 551us/step - loss: 0.4136 - accuracy: 0.8227 - val_loss: 0.4018 - val_accuracy: 0.8183\n",
            "Epoch 65/100\n",
            "5359/5359 [==============================] - 3s 549us/step - loss: 0.4150 - accuracy: 0.8220 - val_loss: 0.4006 - val_accuracy: 0.8171\n",
            "Epoch 66/100\n",
            "5359/5359 [==============================] - 3s 529us/step - loss: 0.4205 - accuracy: 0.8210 - val_loss: 0.4011 - val_accuracy: 0.8175\n",
            "Epoch 67/100\n",
            "5359/5359 [==============================] - 3s 525us/step - loss: 0.4104 - accuracy: 0.8212 - val_loss: 0.3979 - val_accuracy: 0.8217\n",
            "Epoch 68/100\n",
            "5359/5359 [==============================] - 3s 534us/step - loss: 0.4165 - accuracy: 0.8231 - val_loss: 0.3962 - val_accuracy: 0.8224\n",
            "Epoch 69/100\n",
            "5359/5359 [==============================] - 3s 592us/step - loss: 0.4130 - accuracy: 0.8227 - val_loss: 0.3969 - val_accuracy: 0.8247\n",
            "Epoch 70/100\n",
            "5359/5359 [==============================] - 3s 572us/step - loss: 0.4160 - accuracy: 0.8257 - val_loss: 0.3966 - val_accuracy: 0.8194\n",
            "Epoch 71/100\n",
            "5359/5359 [==============================] - 3s 527us/step - loss: 0.4192 - accuracy: 0.8210 - val_loss: 0.3993 - val_accuracy: 0.8167\n",
            "Epoch 72/100\n",
            "5359/5359 [==============================] - 3s 525us/step - loss: 0.4174 - accuracy: 0.8240 - val_loss: 0.3989 - val_accuracy: 0.8171\n",
            "Epoch 73/100\n",
            "5359/5359 [==============================] - 3s 595us/step - loss: 0.4101 - accuracy: 0.8266 - val_loss: 0.3950 - val_accuracy: 0.8224\n",
            "Epoch 74/100\n",
            "5359/5359 [==============================] - 3s 647us/step - loss: 0.4106 - accuracy: 0.8253 - val_loss: 0.3928 - val_accuracy: 0.8236\n",
            "Epoch 75/100\n",
            "5359/5359 [==============================] - 3s 640us/step - loss: 0.4069 - accuracy: 0.8272 - val_loss: 0.3930 - val_accuracy: 0.8224\n",
            "Epoch 76/100\n",
            "5359/5359 [==============================] - 3s 518us/step - loss: 0.4089 - accuracy: 0.8248 - val_loss: 0.3908 - val_accuracy: 0.8254\n",
            "Epoch 77/100\n",
            "5359/5359 [==============================] - 3s 547us/step - loss: 0.4084 - accuracy: 0.8252 - val_loss: 0.3918 - val_accuracy: 0.8236\n",
            "Epoch 78/100\n",
            "5359/5359 [==============================] - 3s 601us/step - loss: 0.4009 - accuracy: 0.8300 - val_loss: 0.3892 - val_accuracy: 0.8285\n",
            "Epoch 79/100\n",
            "5359/5359 [==============================] - 3s 641us/step - loss: 0.4085 - accuracy: 0.8285 - val_loss: 0.3894 - val_accuracy: 0.8258\n",
            "Epoch 80/100\n",
            "5359/5359 [==============================] - 3s 525us/step - loss: 0.4083 - accuracy: 0.8274 - val_loss: 0.3922 - val_accuracy: 0.8186\n",
            "Epoch 81/100\n",
            "5359/5359 [==============================] - 3s 545us/step - loss: 0.4107 - accuracy: 0.8240 - val_loss: 0.3915 - val_accuracy: 0.8209\n",
            "Epoch 82/100\n",
            "5359/5359 [==============================] - 3s 501us/step - loss: 0.4074 - accuracy: 0.8246 - val_loss: 0.3894 - val_accuracy: 0.8251\n",
            "Epoch 83/100\n",
            "5359/5359 [==============================] - 3s 498us/step - loss: 0.4031 - accuracy: 0.8253 - val_loss: 0.3864 - val_accuracy: 0.8262\n",
            "Epoch 84/100\n",
            "5359/5359 [==============================] - 3s 508us/step - loss: 0.4089 - accuracy: 0.8270 - val_loss: 0.3879 - val_accuracy: 0.8258\n",
            "Epoch 85/100\n",
            "5359/5359 [==============================] - 3s 513us/step - loss: 0.4041 - accuracy: 0.8300 - val_loss: 0.3864 - val_accuracy: 0.8262\n",
            "Epoch 86/100\n",
            "5359/5359 [==============================] - 3s 508us/step - loss: 0.4086 - accuracy: 0.8268 - val_loss: 0.3870 - val_accuracy: 0.8266\n",
            "Epoch 87/100\n",
            "5359/5359 [==============================] - 3s 500us/step - loss: 0.4051 - accuracy: 0.8291 - val_loss: 0.3866 - val_accuracy: 0.8243\n",
            "Epoch 88/100\n",
            "5359/5359 [==============================] - 3s 506us/step - loss: 0.4117 - accuracy: 0.8261 - val_loss: 0.3876 - val_accuracy: 0.8254\n",
            "Epoch 89/100\n",
            "5359/5359 [==============================] - 3s 541us/step - loss: 0.4051 - accuracy: 0.8285 - val_loss: 0.3885 - val_accuracy: 0.8224\n",
            "Epoch 90/100\n",
            "5359/5359 [==============================] - 3s 498us/step - loss: 0.4024 - accuracy: 0.8354 - val_loss: 0.3874 - val_accuracy: 0.8247\n",
            "Epoch 91/100\n",
            "5359/5359 [==============================] - 3s 502us/step - loss: 0.3967 - accuracy: 0.8322 - val_loss: 0.3832 - val_accuracy: 0.8266\n",
            "Epoch 92/100\n",
            "5359/5359 [==============================] - 3s 515us/step - loss: 0.4025 - accuracy: 0.8296 - val_loss: 0.3858 - val_accuracy: 0.8315\n",
            "Epoch 93/100\n",
            "5359/5359 [==============================] - 3s 583us/step - loss: 0.4039 - accuracy: 0.8276 - val_loss: 0.3849 - val_accuracy: 0.8239\n",
            "Epoch 94/100\n",
            "5359/5359 [==============================] - 3s 580us/step - loss: 0.4071 - accuracy: 0.8266 - val_loss: 0.3867 - val_accuracy: 0.8251\n",
            "Epoch 95/100\n",
            "5359/5359 [==============================] - 3s 516us/step - loss: 0.4040 - accuracy: 0.8328 - val_loss: 0.3851 - val_accuracy: 0.8277\n",
            "Epoch 96/100\n",
            "5359/5359 [==============================] - 3s 515us/step - loss: 0.4097 - accuracy: 0.8291 - val_loss: 0.3865 - val_accuracy: 0.8270\n",
            "Epoch 97/100\n",
            "5359/5359 [==============================] - 3s 511us/step - loss: 0.4027 - accuracy: 0.8270 - val_loss: 0.3832 - val_accuracy: 0.8262\n",
            "Epoch 98/100\n",
            "5359/5359 [==============================] - 3s 551us/step - loss: 0.3986 - accuracy: 0.8274 - val_loss: 0.3831 - val_accuracy: 0.8251\n",
            "Epoch 99/100\n",
            "5359/5359 [==============================] - 3s 520us/step - loss: 0.4087 - accuracy: 0.8276 - val_loss: 0.3849 - val_accuracy: 0.8262\n",
            "Epoch 100/100\n",
            "5359/5359 [==============================] - 3s 513us/step - loss: 0.3975 - accuracy: 0.8337 - val_loss: 0.3832 - val_accuracy: 0.8285\n"
          ],
          "name": "stdout"
        }
      ]
    },
    {
      "cell_type": "code",
      "metadata": {
        "id": "2PVgRvu6CpRL",
        "colab_type": "code",
        "colab": {}
      },
      "source": [
        "# Predicting the test set results\n",
        "\n",
        "y_pred = classifier.predict(X_test)\n",
        "y_pred = (y_pred > 0.5)"
      ],
      "execution_count": 0,
      "outputs": []
    },
    {
      "cell_type": "code",
      "metadata": {
        "id": "c_3JAtafFdyR",
        "colab_type": "code",
        "colab": {}
      },
      "source": [
        "# making Confusion Matrix\n",
        "\n",
        "from sklearn.metrics import confusion_matrix\n",
        "cm = confusion_matrix(y_test, y_pred)"
      ],
      "execution_count": 0,
      "outputs": []
    },
    {
      "cell_type": "code",
      "metadata": {
        "id": "bfvEq-TMFhAu",
        "colab_type": "code",
        "outputId": "1037973f-4b89-4878-d4b0-a52b7bb0018a",
        "colab": {
          "base_uri": "https://localhost:8080/",
          "height": 51
        }
      },
      "source": [
        "cm"
      ],
      "execution_count": 0,
      "outputs": [
        {
          "output_type": "execute_result",
          "data": {
            "text/plain": [
              "array([[1587,    8],\n",
              "       [ 321,   84]])"
            ]
          },
          "metadata": {
            "tags": []
          },
          "execution_count": 32
        }
      ]
    },
    {
      "cell_type": "code",
      "metadata": {
        "id": "vwYygZ0iFkcy",
        "colab_type": "code",
        "outputId": "678fd7cb-b51b-4e9a-ca20-cbe07a116431",
        "colab": {
          "base_uri": "https://localhost:8080/",
          "height": 34
        }
      },
      "source": [
        "# Calculate Test accuracy\n",
        "\n",
        "from sklearn.metrics import accuracy_score\n",
        "score = accuracy_score(y_pred, y_test)\n",
        "score"
      ],
      "execution_count": 0,
      "outputs": [
        {
          "output_type": "execute_result",
          "data": {
            "text/plain": [
              "0.8355"
            ]
          },
          "metadata": {
            "tags": []
          },
          "execution_count": 33
        }
      ]
    },
    {
      "cell_type": "code",
      "metadata": {
        "id": "6hyKy7sMFr6_",
        "colab_type": "code",
        "colab": {}
      },
      "source": [
        ""
      ],
      "execution_count": 0,
      "outputs": []
    }
  ]
}