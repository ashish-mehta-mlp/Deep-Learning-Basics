{
 "cells": [
  {
   "cell_type": "code",
   "execution_count": 2,
   "metadata": {},
   "outputs": [],
   "source": [
    "# Importing libraries\n",
    "\n",
    "import pandas as pd\n",
    "import numpy as np\n",
    "import matplotlib.pyplot as plt"
   ]
  },
  {
   "cell_type": "code",
   "execution_count": 3,
   "metadata": {},
   "outputs": [],
   "source": [
    "dataset = pd.read_csv(\"C:/Users/Ashish/Desktop/Deep Learning/CSV files/Churn_Modelling.txt\", sep = \",\")"
   ]
  },
  {
   "cell_type": "code",
   "execution_count": 4,
   "metadata": {},
   "outputs": [
    {
     "data": {
      "text/html": [
       "<div>\n",
       "<style scoped>\n",
       "    .dataframe tbody tr th:only-of-type {\n",
       "        vertical-align: middle;\n",
       "    }\n",
       "\n",
       "    .dataframe tbody tr th {\n",
       "        vertical-align: top;\n",
       "    }\n",
       "\n",
       "    .dataframe thead th {\n",
       "        text-align: right;\n",
       "    }\n",
       "</style>\n",
       "<table border=\"1\" class=\"dataframe\">\n",
       "  <thead>\n",
       "    <tr style=\"text-align: right;\">\n",
       "      <th></th>\n",
       "      <th>RowNumber</th>\n",
       "      <th>CustomerId</th>\n",
       "      <th>Surname</th>\n",
       "      <th>CreditScore</th>\n",
       "      <th>Geography</th>\n",
       "      <th>Gender</th>\n",
       "      <th>Age</th>\n",
       "      <th>Tenure</th>\n",
       "      <th>Balance</th>\n",
       "      <th>NumOfProducts</th>\n",
       "      <th>HasCrCard</th>\n",
       "      <th>IsActiveMember</th>\n",
       "      <th>EstimatedSalary</th>\n",
       "      <th>Exited</th>\n",
       "    </tr>\n",
       "  </thead>\n",
       "  <tbody>\n",
       "    <tr>\n",
       "      <th>0</th>\n",
       "      <td>1</td>\n",
       "      <td>15634602</td>\n",
       "      <td>Hargrave</td>\n",
       "      <td>619</td>\n",
       "      <td>France</td>\n",
       "      <td>Female</td>\n",
       "      <td>42</td>\n",
       "      <td>2</td>\n",
       "      <td>0.00</td>\n",
       "      <td>1</td>\n",
       "      <td>1</td>\n",
       "      <td>1</td>\n",
       "      <td>101348.88</td>\n",
       "      <td>1</td>\n",
       "    </tr>\n",
       "    <tr>\n",
       "      <th>1</th>\n",
       "      <td>2</td>\n",
       "      <td>15647311</td>\n",
       "      <td>Hill</td>\n",
       "      <td>608</td>\n",
       "      <td>Spain</td>\n",
       "      <td>Female</td>\n",
       "      <td>41</td>\n",
       "      <td>1</td>\n",
       "      <td>83807.86</td>\n",
       "      <td>1</td>\n",
       "      <td>0</td>\n",
       "      <td>1</td>\n",
       "      <td>112542.58</td>\n",
       "      <td>0</td>\n",
       "    </tr>\n",
       "    <tr>\n",
       "      <th>2</th>\n",
       "      <td>3</td>\n",
       "      <td>15619304</td>\n",
       "      <td>Onio</td>\n",
       "      <td>502</td>\n",
       "      <td>France</td>\n",
       "      <td>Female</td>\n",
       "      <td>42</td>\n",
       "      <td>8</td>\n",
       "      <td>159660.80</td>\n",
       "      <td>3</td>\n",
       "      <td>1</td>\n",
       "      <td>0</td>\n",
       "      <td>113931.57</td>\n",
       "      <td>1</td>\n",
       "    </tr>\n",
       "    <tr>\n",
       "      <th>3</th>\n",
       "      <td>4</td>\n",
       "      <td>15701354</td>\n",
       "      <td>Boni</td>\n",
       "      <td>699</td>\n",
       "      <td>France</td>\n",
       "      <td>Female</td>\n",
       "      <td>39</td>\n",
       "      <td>1</td>\n",
       "      <td>0.00</td>\n",
       "      <td>2</td>\n",
       "      <td>0</td>\n",
       "      <td>0</td>\n",
       "      <td>93826.63</td>\n",
       "      <td>0</td>\n",
       "    </tr>\n",
       "    <tr>\n",
       "      <th>4</th>\n",
       "      <td>5</td>\n",
       "      <td>15737888</td>\n",
       "      <td>Mitchell</td>\n",
       "      <td>850</td>\n",
       "      <td>Spain</td>\n",
       "      <td>Female</td>\n",
       "      <td>43</td>\n",
       "      <td>2</td>\n",
       "      <td>125510.82</td>\n",
       "      <td>1</td>\n",
       "      <td>1</td>\n",
       "      <td>1</td>\n",
       "      <td>79084.10</td>\n",
       "      <td>0</td>\n",
       "    </tr>\n",
       "  </tbody>\n",
       "</table>\n",
       "</div>"
      ],
      "text/plain": [
       "   RowNumber  CustomerId   Surname  CreditScore Geography  Gender  Age  \\\n",
       "0          1    15634602  Hargrave          619    France  Female   42   \n",
       "1          2    15647311      Hill          608     Spain  Female   41   \n",
       "2          3    15619304      Onio          502    France  Female   42   \n",
       "3          4    15701354      Boni          699    France  Female   39   \n",
       "4          5    15737888  Mitchell          850     Spain  Female   43   \n",
       "\n",
       "   Tenure    Balance  NumOfProducts  HasCrCard  IsActiveMember  \\\n",
       "0       2       0.00              1          1               1   \n",
       "1       1   83807.86              1          0               1   \n",
       "2       8  159660.80              3          1               0   \n",
       "3       1       0.00              2          0               0   \n",
       "4       2  125510.82              1          1               1   \n",
       "\n",
       "   EstimatedSalary  Exited  \n",
       "0        101348.88       1  \n",
       "1        112542.58       0  \n",
       "2        113931.57       1  \n",
       "3         93826.63       0  \n",
       "4         79084.10       0  "
      ]
     },
     "execution_count": 4,
     "metadata": {},
     "output_type": "execute_result"
    }
   ],
   "source": [
    "dataset.head()"
   ]
  },
  {
   "cell_type": "code",
   "execution_count": 5,
   "metadata": {},
   "outputs": [
    {
     "data": {
      "text/plain": [
       "(10000, 14)"
      ]
     },
     "execution_count": 5,
     "metadata": {},
     "output_type": "execute_result"
    }
   ],
   "source": [
    "dataset.shape"
   ]
  },
  {
   "cell_type": "code",
   "execution_count": 6,
   "metadata": {},
   "outputs": [],
   "source": [
    "# Creating dependent and independent feature dataset\n",
    "\n",
    "X = dataset.iloc[:, 3:13]\n",
    "y = dataset.iloc[:, 13]"
   ]
  },
  {
   "cell_type": "code",
   "execution_count": 7,
   "metadata": {},
   "outputs": [
    {
     "data": {
      "text/html": [
       "<div>\n",
       "<style scoped>\n",
       "    .dataframe tbody tr th:only-of-type {\n",
       "        vertical-align: middle;\n",
       "    }\n",
       "\n",
       "    .dataframe tbody tr th {\n",
       "        vertical-align: top;\n",
       "    }\n",
       "\n",
       "    .dataframe thead th {\n",
       "        text-align: right;\n",
       "    }\n",
       "</style>\n",
       "<table border=\"1\" class=\"dataframe\">\n",
       "  <thead>\n",
       "    <tr style=\"text-align: right;\">\n",
       "      <th></th>\n",
       "      <th>CreditScore</th>\n",
       "      <th>Geography</th>\n",
       "      <th>Gender</th>\n",
       "      <th>Age</th>\n",
       "      <th>Tenure</th>\n",
       "      <th>Balance</th>\n",
       "      <th>NumOfProducts</th>\n",
       "      <th>HasCrCard</th>\n",
       "      <th>IsActiveMember</th>\n",
       "      <th>EstimatedSalary</th>\n",
       "    </tr>\n",
       "  </thead>\n",
       "  <tbody>\n",
       "    <tr>\n",
       "      <th>0</th>\n",
       "      <td>619</td>\n",
       "      <td>France</td>\n",
       "      <td>Female</td>\n",
       "      <td>42</td>\n",
       "      <td>2</td>\n",
       "      <td>0.00</td>\n",
       "      <td>1</td>\n",
       "      <td>1</td>\n",
       "      <td>1</td>\n",
       "      <td>101348.88</td>\n",
       "    </tr>\n",
       "    <tr>\n",
       "      <th>1</th>\n",
       "      <td>608</td>\n",
       "      <td>Spain</td>\n",
       "      <td>Female</td>\n",
       "      <td>41</td>\n",
       "      <td>1</td>\n",
       "      <td>83807.86</td>\n",
       "      <td>1</td>\n",
       "      <td>0</td>\n",
       "      <td>1</td>\n",
       "      <td>112542.58</td>\n",
       "    </tr>\n",
       "    <tr>\n",
       "      <th>2</th>\n",
       "      <td>502</td>\n",
       "      <td>France</td>\n",
       "      <td>Female</td>\n",
       "      <td>42</td>\n",
       "      <td>8</td>\n",
       "      <td>159660.80</td>\n",
       "      <td>3</td>\n",
       "      <td>1</td>\n",
       "      <td>0</td>\n",
       "      <td>113931.57</td>\n",
       "    </tr>\n",
       "    <tr>\n",
       "      <th>3</th>\n",
       "      <td>699</td>\n",
       "      <td>France</td>\n",
       "      <td>Female</td>\n",
       "      <td>39</td>\n",
       "      <td>1</td>\n",
       "      <td>0.00</td>\n",
       "      <td>2</td>\n",
       "      <td>0</td>\n",
       "      <td>0</td>\n",
       "      <td>93826.63</td>\n",
       "    </tr>\n",
       "    <tr>\n",
       "      <th>4</th>\n",
       "      <td>850</td>\n",
       "      <td>Spain</td>\n",
       "      <td>Female</td>\n",
       "      <td>43</td>\n",
       "      <td>2</td>\n",
       "      <td>125510.82</td>\n",
       "      <td>1</td>\n",
       "      <td>1</td>\n",
       "      <td>1</td>\n",
       "      <td>79084.10</td>\n",
       "    </tr>\n",
       "  </tbody>\n",
       "</table>\n",
       "</div>"
      ],
      "text/plain": [
       "   CreditScore Geography  Gender  Age  Tenure    Balance  NumOfProducts  \\\n",
       "0          619    France  Female   42       2       0.00              1   \n",
       "1          608     Spain  Female   41       1   83807.86              1   \n",
       "2          502    France  Female   42       8  159660.80              3   \n",
       "3          699    France  Female   39       1       0.00              2   \n",
       "4          850     Spain  Female   43       2  125510.82              1   \n",
       "\n",
       "   HasCrCard  IsActiveMember  EstimatedSalary  \n",
       "0          1               1        101348.88  \n",
       "1          0               1        112542.58  \n",
       "2          1               0        113931.57  \n",
       "3          0               0         93826.63  \n",
       "4          1               1         79084.10  "
      ]
     },
     "execution_count": 7,
     "metadata": {},
     "output_type": "execute_result"
    }
   ],
   "source": [
    "X.head()"
   ]
  },
  {
   "cell_type": "code",
   "execution_count": 8,
   "metadata": {},
   "outputs": [],
   "source": [
    "# Create dummy variables\n",
    "geography = pd.get_dummies(X[\"Geography\"], drop_first = True)\n",
    "gender = pd.get_dummies(X[\"Gender\"], drop_first = True)"
   ]
  },
  {
   "cell_type": "code",
   "execution_count": 9,
   "metadata": {},
   "outputs": [],
   "source": [
    "# Concatenate dummy variables to the dataframe\n",
    "\n",
    "X = pd.concat([X, geography, gender], axis = 1)"
   ]
  },
  {
   "cell_type": "code",
   "execution_count": 10,
   "metadata": {},
   "outputs": [],
   "source": [
    "## Drop Unwanted categorical columns\n",
    "\n",
    "X = X.drop([\"Geography\", \"Gender\"], axis = 1)"
   ]
  },
  {
   "cell_type": "code",
   "execution_count": 11,
   "metadata": {},
   "outputs": [],
   "source": [
    "# Splitting the data into training and testing data\n",
    "\n",
    "from sklearn.model_selection import train_test_split\n",
    "X_train, X_test, y_train, y_test = train_test_split(X, y, test_size = 0.2, random_state = 0)"
   ]
  },
  {
   "cell_type": "code",
   "execution_count": 13,
   "metadata": {},
   "outputs": [],
   "source": [
    "# Feature Scaling\n",
    "\n",
    "from sklearn.preprocessing import StandardScaler\n",
    "sc = StandardScaler()\n",
    "X_train = sc.fit_transform(X_train)\n",
    "X_test = sc.transform(X_test)"
   ]
  },
  {
   "cell_type": "code",
   "execution_count": 15,
   "metadata": {},
   "outputs": [
    {
     "name": "stderr",
     "output_type": "stream",
     "text": [
      "Using TensorFlow backend.\n"
     ]
    }
   ],
   "source": [
    "# Importing Keras Libraries and Packages\n",
    "\n",
    "import keras\n",
    "from keras.models import Sequential\n",
    "from keras.layers import Dense\n",
    "from keras.layers import Dropout\n",
    "from keras.layers import LeakyReLU, PReLU, ELU"
   ]
  },
  {
   "cell_type": "code",
   "execution_count": 16,
   "metadata": {},
   "outputs": [],
   "source": [
    "# Initializing The ANN\n",
    "\n",
    "classifier = Sequential() # This is an empty neural network"
   ]
  },
  {
   "cell_type": "code",
   "execution_count": 20,
   "metadata": {},
   "outputs": [],
   "source": [
    "# Adding the input layer and first hidden layer\n",
    "classifier.add(Dense(units = 6, kernel_initializer = \"he_uniform\", activation = \"relu\", input_dim = 11))\n",
    "classifier.add(Dropout(0.3))"
   ]
  },
  {
   "cell_type": "code",
   "execution_count": 21,
   "metadata": {},
   "outputs": [],
   "source": [
    "# Adding the second hidden layer\n",
    "\n",
    "classifier.add(Dense(units = 10, kernel_initializer = \"he_uniform\", activation = \"relu\"))\n",
    "classifier.add(Dropout(0.3))"
   ]
  },
  {
   "cell_type": "code",
   "execution_count": 22,
   "metadata": {},
   "outputs": [],
   "source": [
    "# Adding the third hidden layer\n",
    "\n",
    "classifier.add(Dense(units = 12, kernel_initializer = \"he_uniform\", activation = \"relu\"))\n",
    "classifier.add(Dropout(0.2))"
   ]
  },
  {
   "cell_type": "code",
   "execution_count": 23,
   "metadata": {},
   "outputs": [],
   "source": [
    "# Adding the output layer\n",
    "\n",
    "classifier.add(Dense(units = 1, kernel_initializer = \"glorot_uniform\", activation = \"sigmoid\"))"
   ]
  },
  {
   "cell_type": "code",
   "execution_count": 24,
   "metadata": {},
   "outputs": [],
   "source": [
    "# Compiling the ANN\n",
    "classifier.compile(optimizer=\"Adamax\", loss = \"binary_crossentropy\", metrics = [\"accuracy\"])"
   ]
  },
  {
   "cell_type": "code",
   "execution_count": 25,
   "metadata": {},
   "outputs": [
    {
     "name": "stdout",
     "output_type": "stream",
     "text": [
      "WARNING:tensorflow:From F:\\Anaconda3\\lib\\site-packages\\tensorflow\\python\\ops\\math_ops.py:3066: to_int32 (from tensorflow.python.ops.math_ops) is deprecated and will be removed in a future version.\n",
      "Instructions for updating:\n",
      "Use tf.cast instead.\n"
     ]
    },
    {
     "name": "stderr",
     "output_type": "stream",
     "text": [
      "F:\\Anaconda3\\lib\\site-packages\\ipykernel_launcher.py:3: UserWarning: The `nb_epoch` argument in `fit` has been renamed `epochs`.\n",
      "  This is separate from the ipykernel package so we can avoid doing imports until\n"
     ]
    },
    {
     "name": "stdout",
     "output_type": "stream",
     "text": [
      "Train on 5359 samples, validate on 2641 samples\n",
      "Epoch 1/100\n",
      "5359/5359 [==============================] - 5s 993us/step - loss: 0.6079 - accuracy: 0.7800 - val_loss: 0.5225 - val_accuracy: 0.7955\n",
      "Epoch 2/100\n",
      "5359/5359 [==============================] - 3s 598us/step - loss: 0.5287 - accuracy: 0.7944 - val_loss: 0.5062 - val_accuracy: 0.7955\n",
      "Epoch 3/100\n",
      "5359/5359 [==============================] - 3s 601us/step - loss: 0.5153 - accuracy: 0.7951 - val_loss: 0.5023 - val_accuracy: 0.7955\n",
      "Epoch 4/100\n",
      "5359/5359 [==============================] - 3s 631us/step - loss: 0.5091 - accuracy: 0.7957 - val_loss: 0.4989 - val_accuracy: 0.7955\n",
      "Epoch 5/100\n",
      "5359/5359 [==============================] - 3s 474us/step - loss: 0.4977 - accuracy: 0.7959 - val_loss: 0.4915 - val_accuracy: 0.7955\n",
      "Epoch 6/100\n",
      "5359/5359 [==============================] - 3s 605us/step - loss: 0.4872 - accuracy: 0.7957 - val_loss: 0.4815 - val_accuracy: 0.7955\n",
      "Epoch 7/100\n",
      "5359/5359 [==============================] - 3s 604us/step - loss: 0.4824 - accuracy: 0.7959 - val_loss: 0.4780 - val_accuracy: 0.7955\n",
      "Epoch 8/100\n",
      "5359/5359 [==============================] - 3s 603us/step - loss: 0.4806 - accuracy: 0.7964 - val_loss: 0.4753 - val_accuracy: 0.7955\n",
      "Epoch 9/100\n",
      "5359/5359 [==============================] - 3s 632us/step - loss: 0.4718 - accuracy: 0.7959 - val_loss: 0.4683 - val_accuracy: 0.7955\n",
      "Epoch 10/100\n",
      "5359/5359 [==============================] - 3s 569us/step - loss: 0.4678 - accuracy: 0.7960 - val_loss: 0.4649 - val_accuracy: 0.7955\n",
      "Epoch 11/100\n",
      "5359/5359 [==============================] - 2s 406us/step - loss: 0.4674 - accuracy: 0.7959 - val_loss: 0.4642 - val_accuracy: 0.7955\n",
      "Epoch 12/100\n",
      "5359/5359 [==============================] - 2s 444us/step - loss: 0.4589 - accuracy: 0.7960 - val_loss: 0.4580 - val_accuracy: 0.7955\n",
      "Epoch 13/100\n",
      "5359/5359 [==============================] - 3s 623us/step - loss: 0.4582 - accuracy: 0.7962 - val_loss: 0.4570 - val_accuracy: 0.7955\n",
      "Epoch 14/100\n",
      "5359/5359 [==============================] - 3s 626us/step - loss: 0.4524 - accuracy: 0.7960 - val_loss: 0.4548 - val_accuracy: 0.7955\n",
      "Epoch 15/100\n",
      "5359/5359 [==============================] - 3s 624us/step - loss: 0.4508 - accuracy: 0.7962 - val_loss: 0.4514 - val_accuracy: 0.7955\n",
      "Epoch 16/100\n",
      "5359/5359 [==============================] - 2s 421us/step - loss: 0.4499 - accuracy: 0.7962 - val_loss: 0.4552 - val_accuracy: 0.7955\n",
      "Epoch 17/100\n",
      "5359/5359 [==============================] - 3s 625us/step - loss: 0.4484 - accuracy: 0.7960 - val_loss: 0.4526 - val_accuracy: 0.7955\n",
      "Epoch 18/100\n",
      "5359/5359 [==============================] - 3s 617us/step - loss: 0.4509 - accuracy: 0.7962 - val_loss: 0.4491 - val_accuracy: 0.7955\n",
      "Epoch 19/100\n",
      "5359/5359 [==============================] - 3s 590us/step - loss: 0.4480 - accuracy: 0.7960 - val_loss: 0.4522 - val_accuracy: 0.7955\n",
      "Epoch 20/100\n",
      "5359/5359 [==============================] - 2s 452us/step - loss: 0.4492 - accuracy: 0.7962 - val_loss: 0.4541 - val_accuracy: 0.7955\n",
      "Epoch 21/100\n",
      "5359/5359 [==============================] - 2s 341us/step - loss: 0.4433 - accuracy: 0.7962 - val_loss: 0.4511 - val_accuracy: 0.7955\n",
      "Epoch 22/100\n",
      "5359/5359 [==============================] - 1s 277us/step - loss: 0.4418 - accuracy: 0.7962 - val_loss: 0.4504 - val_accuracy: 0.7955\n",
      "Epoch 23/100\n",
      "5359/5359 [==============================] - 3s 613us/step - loss: 0.4383 - accuracy: 0.7962 - val_loss: 0.4490 - val_accuracy: 0.7955\n",
      "Epoch 24/100\n",
      "5359/5359 [==============================] - 3s 614us/step - loss: 0.4440 - accuracy: 0.7960 - val_loss: 0.4513 - val_accuracy: 0.7955\n",
      "Epoch 25/100\n",
      "5359/5359 [==============================] - 3s 613us/step - loss: 0.4438 - accuracy: 0.7962 - val_loss: 0.4505 - val_accuracy: 0.7955\n",
      "Epoch 26/100\n",
      "5359/5359 [==============================] - 3s 616us/step - loss: 0.4380 - accuracy: 0.7962 - val_loss: 0.4527 - val_accuracy: 0.7955\n",
      "Epoch 27/100\n",
      "5359/5359 [==============================] - 2s 441us/step - loss: 0.4396 - accuracy: 0.7960 - val_loss: 0.4518 - val_accuracy: 0.7955\n",
      "Epoch 28/100\n",
      "5359/5359 [==============================] - 2s 328us/step - loss: 0.4414 - accuracy: 0.7960 - val_loss: 0.4568 - val_accuracy: 0.7955\n",
      "Epoch 29/100\n",
      "5359/5359 [==============================] - 2s 341us/step - loss: 0.4356 - accuracy: 0.7962 - val_loss: 0.4464 - val_accuracy: 0.7955\n",
      "Epoch 30/100\n",
      "5359/5359 [==============================] - 3s 619us/step - loss: 0.4348 - accuracy: 0.7962 - val_loss: 0.4445 - val_accuracy: 0.7955\n",
      "Epoch 31/100\n",
      "5359/5359 [==============================] - 3s 620us/step - loss: 0.4316 - accuracy: 0.7962 - val_loss: 0.4497 - val_accuracy: 0.7955\n",
      "Epoch 32/100\n",
      "5359/5359 [==============================] - 3s 621us/step - loss: 0.4378 - accuracy: 0.7962 - val_loss: 0.4575 - val_accuracy: 0.7955\n",
      "Epoch 33/100\n",
      "5359/5359 [==============================] - 2s 432us/step - loss: 0.4331 - accuracy: 0.7962 - val_loss: 0.4601 - val_accuracy: 0.7955\n",
      "Epoch 34/100\n",
      "5359/5359 [==============================] - 2s 343us/step - loss: 0.4346 - accuracy: 0.7962 - val_loss: 0.4574 - val_accuracy: 0.7955\n",
      "Epoch 35/100\n",
      "5359/5359 [==============================] - 2s 307us/step - loss: 0.4367 - accuracy: 0.7962 - val_loss: 0.4433 - val_accuracy: 0.7955\n",
      "Epoch 36/100\n",
      "5359/5359 [==============================] - 2s 300us/step - loss: 0.4327 - accuracy: 0.7962 - val_loss: 0.4538 - val_accuracy: 0.7955\n",
      "Epoch 37/100\n",
      "5359/5359 [==============================] - 3s 616us/step - loss: 0.4346 - accuracy: 0.7962 - val_loss: 0.4586 - val_accuracy: 0.7955\n",
      "Epoch 38/100\n",
      "5359/5359 [==============================] - 3s 593us/step - loss: 0.4304 - accuracy: 0.7962 - val_loss: 0.4537 - val_accuracy: 0.7955\n",
      "Epoch 39/100\n",
      "5359/5359 [==============================] - 3s 625us/step - loss: 0.4325 - accuracy: 0.7962 - val_loss: 0.4476 - val_accuracy: 0.7955\n",
      "Epoch 40/100\n",
      "5359/5359 [==============================] - 2s 437us/step - loss: 0.4299 - accuracy: 0.7962 - val_loss: 0.4535 - val_accuracy: 0.7955\n",
      "Epoch 41/100\n",
      "5359/5359 [==============================] - 3s 623us/step - loss: 0.4334 - accuracy: 0.7962 - val_loss: 0.4558 - val_accuracy: 0.7955\n",
      "Epoch 42/100\n",
      "5359/5359 [==============================] - 3s 628us/step - loss: 0.4282 - accuracy: 0.7962 - val_loss: 0.4545 - val_accuracy: 0.7955\n",
      "Epoch 43/100\n",
      "5359/5359 [==============================] - 3s 582us/step - loss: 0.4271 - accuracy: 0.7962 - val_loss: 0.4416 - val_accuracy: 0.7955\n",
      "Epoch 44/100\n",
      "5359/5359 [==============================] - 2s 436us/step - loss: 0.4214 - accuracy: 0.7962 - val_loss: 0.4538 - val_accuracy: 0.7955\n",
      "Epoch 45/100\n",
      "5359/5359 [==============================] - 2s 333us/step - loss: 0.4221 - accuracy: 0.7962 - val_loss: 0.4430 - val_accuracy: 0.7955\n",
      "Epoch 46/100\n",
      "5359/5359 [==============================] - 1s 268us/step - loss: 0.4250 - accuracy: 0.7962 - val_loss: 0.4514 - val_accuracy: 0.7955\n",
      "Epoch 47/100\n",
      "5359/5359 [==============================] - 3s 610us/step - loss: 0.4213 - accuracy: 0.7962 - val_loss: 0.4365 - val_accuracy: 0.7955\n",
      "Epoch 48/100\n",
      "5359/5359 [==============================] - 3s 621us/step - loss: 0.4190 - accuracy: 0.7962 - val_loss: 0.4421 - val_accuracy: 0.7955\n",
      "Epoch 49/100\n",
      "5359/5359 [==============================] - 3s 543us/step - loss: 0.4138 - accuracy: 0.7962 - val_loss: 0.4335 - val_accuracy: 0.7955\n",
      "Epoch 50/100\n",
      "5359/5359 [==============================] - 3s 642us/step - loss: 0.4155 - accuracy: 0.7962 - val_loss: 0.4310 - val_accuracy: 0.7955\n",
      "Epoch 51/100\n",
      "5359/5359 [==============================] - 3s 516us/step - loss: 0.4104 - accuracy: 0.7962 - val_loss: 0.4295 - val_accuracy: 0.7955\n",
      "Epoch 52/100\n",
      "5359/5359 [==============================] - 2s 436us/step - loss: 0.4055 - accuracy: 0.7962 - val_loss: 0.4317 - val_accuracy: 0.7955\n",
      "Epoch 53/100\n",
      "5359/5359 [==============================] - 3s 615us/step - loss: 0.4075 - accuracy: 0.7962 - val_loss: 0.4337 - val_accuracy: 0.7955\n",
      "Epoch 54/100\n",
      "5359/5359 [==============================] - 3s 615us/step - loss: 0.4006 - accuracy: 0.7962 - val_loss: 0.4247 - val_accuracy: 0.7955\n",
      "Epoch 55/100\n",
      "5359/5359 [==============================] - 3s 615us/step - loss: 0.4017 - accuracy: 0.7962 - val_loss: 0.4289 - val_accuracy: 0.7955\n",
      "Epoch 56/100\n",
      "5359/5359 [==============================] - 2s 436us/step - loss: 0.3992 - accuracy: 0.7962 - val_loss: 0.4195 - val_accuracy: 0.7955\n",
      "Epoch 57/100\n",
      "5359/5359 [==============================] - 2s 314us/step - loss: 0.4015 - accuracy: 0.7962 - val_loss: 0.4201 - val_accuracy: 0.7955\n",
      "Epoch 58/100\n",
      "5359/5359 [==============================] - 3s 614us/step - loss: 0.3982 - accuracy: 0.7977 - val_loss: 0.4238 - val_accuracy: 0.8383\n",
      "Epoch 59/100\n",
      "5359/5359 [==============================] - 3s 595us/step - loss: 0.3938 - accuracy: 0.8296 - val_loss: 0.4226 - val_accuracy: 0.8410\n",
      "Epoch 60/100\n",
      "5359/5359 [==============================] - 3s 570us/step - loss: 0.3880 - accuracy: 0.8341 - val_loss: 0.4120 - val_accuracy: 0.8432\n",
      "Epoch 61/100\n",
      "5359/5359 [==============================] - 2s 416us/step - loss: 0.3869 - accuracy: 0.8365 - val_loss: 0.4169 - val_accuracy: 0.8455\n",
      "Epoch 62/100\n",
      "5359/5359 [==============================] - 2s 342us/step - loss: 0.3864 - accuracy: 0.8378 - val_loss: 0.4141 - val_accuracy: 0.8474\n",
      "Epoch 63/100\n",
      "5359/5359 [==============================] - 2s 293us/step - loss: 0.3854 - accuracy: 0.8412 - val_loss: 0.4222 - val_accuracy: 0.8455\n",
      "Epoch 64/100\n",
      "5359/5359 [==============================] - 3s 602us/step - loss: 0.3847 - accuracy: 0.8427 - val_loss: 0.4188 - val_accuracy: 0.8455\n",
      "Epoch 65/100\n",
      "5359/5359 [==============================] - 3s 584us/step - loss: 0.3829 - accuracy: 0.8414 - val_loss: 0.4162 - val_accuracy: 0.8440\n",
      "Epoch 66/100\n",
      "5359/5359 [==============================] - 3s 596us/step - loss: 0.3839 - accuracy: 0.8434 - val_loss: 0.4154 - val_accuracy: 0.8463\n",
      "Epoch 67/100\n",
      "5359/5359 [==============================] - 3s 619us/step - loss: 0.3775 - accuracy: 0.8477 - val_loss: 0.4197 - val_accuracy: 0.8459\n",
      "Epoch 68/100\n",
      "5359/5359 [==============================] - 3s 550us/step - loss: 0.3862 - accuracy: 0.8477 - val_loss: 0.4190 - val_accuracy: 0.8440\n",
      "Epoch 69/100\n",
      "5359/5359 [==============================] - 2s 436us/step - loss: 0.3827 - accuracy: 0.8511 - val_loss: 0.4194 - val_accuracy: 0.8451\n",
      "Epoch 70/100\n",
      "5359/5359 [==============================] - 3s 584us/step - loss: 0.3813 - accuracy: 0.8472 - val_loss: 0.4072 - val_accuracy: 0.8440\n",
      "Epoch 71/100\n",
      "5359/5359 [==============================] - 3s 583us/step - loss: 0.3782 - accuracy: 0.8502 - val_loss: 0.4133 - val_accuracy: 0.8455\n",
      "Epoch 72/100\n",
      "5359/5359 [==============================] - 3s 585us/step - loss: 0.3795 - accuracy: 0.8496 - val_loss: 0.4194 - val_accuracy: 0.8463\n",
      "Epoch 73/100\n",
      "5359/5359 [==============================] - 3s 609us/step - loss: 0.3810 - accuracy: 0.8496 - val_loss: 0.4240 - val_accuracy: 0.8432\n",
      "Epoch 74/100\n",
      "5359/5359 [==============================] - 2s 439us/step - loss: 0.3813 - accuracy: 0.8481 - val_loss: 0.4331 - val_accuracy: 0.8379\n",
      "Epoch 75/100\n",
      "5359/5359 [==============================] - 3s 623us/step - loss: 0.3850 - accuracy: 0.8468 - val_loss: 0.4282 - val_accuracy: 0.8402\n",
      "Epoch 76/100\n",
      "5359/5359 [==============================] - 3s 570us/step - loss: 0.3731 - accuracy: 0.8489 - val_loss: 0.4116 - val_accuracy: 0.8455\n",
      "Epoch 77/100\n",
      "5359/5359 [==============================] - 2s 466us/step - loss: 0.3777 - accuracy: 0.8511 - val_loss: 0.4240 - val_accuracy: 0.8432\n",
      "Epoch 78/100\n",
      "5359/5359 [==============================] - 3s 650us/step - loss: 0.3753 - accuracy: 0.8511 - val_loss: 0.4102 - val_accuracy: 0.8421\n",
      "Epoch 79/100\n",
      "5359/5359 [==============================] - 2s 439us/step - loss: 0.3772 - accuracy: 0.8502 - val_loss: 0.4169 - val_accuracy: 0.8436\n",
      "Epoch 80/100\n",
      "5359/5359 [==============================] - 3s 650us/step - loss: 0.3810 - accuracy: 0.8475 - val_loss: 0.4212 - val_accuracy: 0.8406\n",
      "Epoch 81/100\n",
      "5359/5359 [==============================] - 3s 605us/step - loss: 0.3802 - accuracy: 0.8474 - val_loss: 0.3975 - val_accuracy: 0.8474\n",
      "Epoch 82/100\n",
      "5359/5359 [==============================] - 3s 483us/step - loss: 0.3766 - accuracy: 0.8503 - val_loss: 0.3986 - val_accuracy: 0.8455\n",
      "Epoch 83/100\n",
      "5359/5359 [==============================] - 4s 670us/step - loss: 0.3781 - accuracy: 0.8487 - val_loss: 0.4135 - val_accuracy: 0.8448\n",
      "Epoch 84/100\n",
      "5359/5359 [==============================] - 3s 520us/step - loss: 0.3784 - accuracy: 0.8475 - val_loss: 0.4201 - val_accuracy: 0.8440\n",
      "Epoch 85/100\n",
      "5359/5359 [==============================] - 2s 369us/step - loss: 0.3752 - accuracy: 0.8461 - val_loss: 0.4092 - val_accuracy: 0.8432\n",
      "Epoch 86/100\n",
      "5359/5359 [==============================] - 2s 321us/step - loss: 0.3799 - accuracy: 0.8492 - val_loss: 0.4204 - val_accuracy: 0.8425\n",
      "Epoch 87/100\n",
      "5359/5359 [==============================] - 3s 631us/step - loss: 0.3740 - accuracy: 0.8530 - val_loss: 0.4054 - val_accuracy: 0.8474\n",
      "Epoch 88/100\n",
      "5359/5359 [==============================] - 3s 637us/step - loss: 0.3745 - accuracy: 0.8539 - val_loss: 0.4179 - val_accuracy: 0.8436\n",
      "Epoch 89/100\n",
      "5359/5359 [==============================] - 4s 662us/step - loss: 0.3737 - accuracy: 0.8505 - val_loss: 0.4117 - val_accuracy: 0.8432\n",
      "Epoch 90/100\n",
      "5359/5359 [==============================] - 3s 471us/step - loss: 0.3753 - accuracy: 0.8552 - val_loss: 0.4121 - val_accuracy: 0.8455\n",
      "Epoch 91/100\n",
      "5359/5359 [==============================] - 2s 349us/step - loss: 0.3780 - accuracy: 0.8511 - val_loss: 0.4265 - val_accuracy: 0.8440\n",
      "Epoch 92/100\n",
      "5359/5359 [==============================] - 2s 297us/step - loss: 0.3685 - accuracy: 0.8526 - val_loss: 0.3973 - val_accuracy: 0.8463\n",
      "Epoch 93/100\n",
      "5359/5359 [==============================] - 3s 621us/step - loss: 0.3707 - accuracy: 0.8535 - val_loss: 0.4086 - val_accuracy: 0.8444\n",
      "Epoch 94/100\n",
      "5359/5359 [==============================] - 3s 632us/step - loss: 0.3764 - accuracy: 0.8487 - val_loss: 0.4237 - val_accuracy: 0.8417\n",
      "Epoch 95/100\n",
      "5359/5359 [==============================] - 4s 659us/step - loss: 0.3750 - accuracy: 0.8507 - val_loss: 0.4312 - val_accuracy: 0.8395\n",
      "Epoch 96/100\n",
      "5359/5359 [==============================] - 3s 478us/step - loss: 0.3662 - accuracy: 0.8554 - val_loss: 0.4116 - val_accuracy: 0.8451\n",
      "Epoch 97/100\n",
      "5359/5359 [==============================] - 3s 617us/step - loss: 0.3754 - accuracy: 0.8543 - val_loss: 0.4099 - val_accuracy: 0.8466\n",
      "Epoch 98/100\n",
      "5359/5359 [==============================] - 3s 469us/step - loss: 0.3769 - accuracy: 0.8543 - val_loss: 0.4150 - val_accuracy: 0.8474\n",
      "Epoch 99/100\n",
      "5359/5359 [==============================] - 3s 616us/step - loss: 0.3658 - accuracy: 0.8537 - val_loss: 0.4042 - val_accuracy: 0.8470\n",
      "Epoch 100/100\n",
      "5359/5359 [==============================] - 4s 665us/step - loss: 0.3682 - accuracy: 0.8524 - val_loss: 0.4120 - val_accuracy: 0.8436\n"
     ]
    }
   ],
   "source": [
    "# Fitting the ANN to Training Set\n",
    "\n",
    "model_history = classifier.fit(X_train, y_train, validation_split= 0.33, batch_size= 10, nb_epoch = 100)"
   ]
  },
  {
   "cell_type": "code",
   "execution_count": 26,
   "metadata": {},
   "outputs": [
    {
     "name": "stdout",
     "output_type": "stream",
     "text": [
      "Model: \"sequential_1\"\n",
      "_________________________________________________________________\n",
      "Layer (type)                 Output Shape              Param #   \n",
      "=================================================================\n",
      "dense_1 (Dense)              (None, 6)                 72        \n",
      "_________________________________________________________________\n",
      "dense_2 (Dense)              (None, 6)                 42        \n",
      "_________________________________________________________________\n",
      "dense_3 (Dense)              (None, 6)                 42        \n",
      "_________________________________________________________________\n",
      "dense_4 (Dense)              (None, 6)                 42        \n",
      "_________________________________________________________________\n",
      "dropout_1 (Dropout)          (None, 6)                 0         \n",
      "_________________________________________________________________\n",
      "dense_5 (Dense)              (None, 10)                70        \n",
      "_________________________________________________________________\n",
      "dropout_2 (Dropout)          (None, 10)                0         \n",
      "_________________________________________________________________\n",
      "dense_6 (Dense)              (None, 12)                132       \n",
      "_________________________________________________________________\n",
      "dropout_3 (Dropout)          (None, 12)                0         \n",
      "_________________________________________________________________\n",
      "dense_7 (Dense)              (None, 1)                 13        \n",
      "=================================================================\n",
      "Total params: 413\n",
      "Trainable params: 413\n",
      "Non-trainable params: 0\n",
      "_________________________________________________________________\n"
     ]
    }
   ],
   "source": [
    "classifier.summary()"
   ]
  },
  {
   "cell_type": "code",
   "execution_count": 27,
   "metadata": {},
   "outputs": [],
   "source": [
    "# Predicting the test set results\n",
    "\n",
    "y_pred = classifier.predict(X_test)\n",
    "y_pred = (y_pred > 0.5)"
   ]
  },
  {
   "cell_type": "code",
   "execution_count": 28,
   "metadata": {},
   "outputs": [],
   "source": [
    "# making Confusion Matrix\n",
    "\n",
    "from sklearn.metrics import confusion_matrix\n",
    "cm = confusion_matrix(y_test, y_pred)"
   ]
  },
  {
   "cell_type": "code",
   "execution_count": 29,
   "metadata": {},
   "outputs": [
    {
     "data": {
      "text/plain": [
       "array([[1447,  148],\n",
       "       [ 166,  239]], dtype=int64)"
      ]
     },
     "execution_count": 29,
     "metadata": {},
     "output_type": "execute_result"
    }
   ],
   "source": [
    "cm"
   ]
  },
  {
   "cell_type": "code",
   "execution_count": 32,
   "metadata": {},
   "outputs": [],
   "source": [
    "# Calculate Test accuracy\n",
    "\n",
    "from sklearn.metrics import accuracy_score\n",
    "score = accuracy_score(y_pred, y_test)"
   ]
  },
  {
   "cell_type": "code",
   "execution_count": 33,
   "metadata": {},
   "outputs": [
    {
     "data": {
      "text/plain": [
       "0.843"
      ]
     },
     "execution_count": 33,
     "metadata": {},
     "output_type": "execute_result"
    }
   ],
   "source": [
    "score"
   ]
  },
  {
   "cell_type": "code",
   "execution_count": null,
   "metadata": {},
   "outputs": [],
   "source": []
  }
 ],
 "metadata": {
  "kernelspec": {
   "display_name": "Python 3",
   "language": "python",
   "name": "python3"
  },
  "language_info": {
   "codemirror_mode": {
    "name": "ipython",
    "version": 3
   },
   "file_extension": ".py",
   "mimetype": "text/x-python",
   "name": "python",
   "nbconvert_exporter": "python",
   "pygments_lexer": "ipython3",
   "version": "3.7.3"
  }
 },
 "nbformat": 4,
 "nbformat_minor": 2
}
