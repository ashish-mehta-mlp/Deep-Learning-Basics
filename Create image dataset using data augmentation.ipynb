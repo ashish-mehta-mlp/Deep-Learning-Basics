{
 "cells": [
  {
   "cell_type": "code",
   "execution_count": 1,
   "metadata": {},
   "outputs": [],
   "source": [
    "from keras.preprocessing.image import ImageDataGenerator, array_to_img, img_to_array, load_img\n",
    "\n",
    "datagen = ImageDataGenerator(\n",
    "          rotation_range= 40,\n",
    "          width_shift_range= 0.2,\n",
    "          height_shift_range= 0.2,\n",
    "          shear_range= 0.2,\n",
    "          zoom_range= 0.2,\n",
    "          horizontal_flip= True,\n",
    "          fill_mode= \"nearest\")"
   ]
  },
  {
   "cell_type": "code",
   "execution_count": 2,
   "metadata": {},
   "outputs": [],
   "source": [
    "img = load_img(\"C:/Users/Ashish/Desktop/Deep Learning/CSV files/download.jpeg\") # load the image\n",
    "x = img_to_array(img) # This is a numpy array of an RGB image hence dimension is (3,150,150) [3 channels, 150 x 150 pixels]\n",
    "x = x.reshape((1,) + x.shape) #This is a numpy array with shape(1,3,150,150)"
   ]
  },
  {
   "cell_type": "code",
   "execution_count": 5,
   "metadata": {},
   "outputs": [],
   "source": [
    "i = 0\n",
    "for batch in datagen.flow(x, batch_size = 1, save_to_dir=\"C:/Users/Ashish/Desktop/Deep Learning/CSV files/preview\", save_format=\"jpeg\", save_prefix=\"cat\"):\n",
    "    i+=1\n",
    "    if i > 20:\n",
    "        break # otherwise the generator would loop and create a large number of images"
   ]
  },
  {
   "cell_type": "markdown",
   "metadata": {},
   "source": [
    "- .flow() command generates batches of randomly transformed images and saves the results in the chosen directory"
   ]
  },
  {
   "cell_type": "code",
   "execution_count": null,
   "metadata": {},
   "outputs": [],
   "source": []
  },
  {
   "cell_type": "markdown",
   "metadata": {},
   "source": [
    "- All the data augmentation properties takes place in ImageDataGenerator\n",
    "- Batch_size in datagen.flow means how many images are getting created at time"
   ]
  },
  {
   "cell_type": "code",
   "execution_count": null,
   "metadata": {},
   "outputs": [],
   "source": []
  },
  {
   "cell_type": "code",
   "execution_count": null,
   "metadata": {},
   "outputs": [],
   "source": []
  }
 ],
 "metadata": {
  "kernelspec": {
   "display_name": "Python 3",
   "language": "python",
   "name": "python3"
  },
  "language_info": {
   "codemirror_mode": {
    "name": "ipython",
    "version": 3
   },
   "file_extension": ".py",
   "mimetype": "text/x-python",
   "name": "python",
   "nbconvert_exporter": "python",
   "pygments_lexer": "ipython3",
   "version": "3.7.3"
  }
 },
 "nbformat": 4,
 "nbformat_minor": 2
}
